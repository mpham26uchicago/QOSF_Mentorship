{
 "cells": [
  {
   "cell_type": "code",
   "execution_count": 1,
   "id": "adaaaf0f",
   "metadata": {},
   "outputs": [
    {
     "name": "stderr",
     "output_type": "stream",
     "text": [
      "Duplicate key in file '/Users/minhpham/.matplotlib/matplotlibrc', line 2 ('backend: TkAgg')\n",
      "Duplicate key in file '/Users/minhpham/.matplotlib/matplotlibrc', line 3 ('backend: TkAgg')\n"
     ]
    }
   ],
   "source": [
    "from qiskit import *\n",
    "from qiskit.circuit.library import *\n",
    "from qiskit.quantum_info import *\n",
    "import numpy as np\n",
    "from scipy.linalg import *\n",
    "from sympy import *\n",
    "\n",
    "from functools import reduce\n",
    "\n",
    "import warnings\n",
    "warnings.filterwarnings(\"ignore\")\n",
    "\n",
    "import matplotlib.pyplot as plt\n",
    "from numpy.testing import assert_almost_equal as aae"
   ]
  },
  {
   "cell_type": "code",
   "execution_count": 2,
   "id": "aefdd770",
   "metadata": {},
   "outputs": [],
   "source": [
    "tensor = lambda matrix_list: reduce(np.kron, matrix_list)"
   ]
  },
  {
   "cell_type": "code",
   "execution_count": 4,
   "id": "ff504aac",
   "metadata": {},
   "outputs": [],
   "source": [
    "def one_qubit_partial_trace(rho: np.ndarray, traced_qubit: int) -> DensityMatrix:\n",
    "\n",
    "    dim = int(np.log2(len(rho)))\n",
    "    assert traced_qubit < dim, \"Traced qubit index out of range\"\n",
    "    \n",
    "    I = np.identity(2)\n",
    "    zero = np.array([[1], [0]])\n",
    "    one = np.array([[0], [1]])\n",
    "\n",
    "    # Create pre and post of partial trace\n",
    "    pre_zero = tensor([zero.T if i == traced_qubit else I for i in range(dim)])\n",
    "    post_zero = tensor([zero if i == traced_qubit else I for i in range(dim)])\n",
    "    pre_one = tensor([one.T if i == traced_qubit else I for i in range(dim)])\n",
    "    post_one = tensor([one if i == traced_qubit else I for i in range(dim)])\n",
    "\n",
    "    reduced_density_matrix = DensityMatrix(pre_zero@rho@post_zero + pre_one@rho@post_one)\n",
    "    \n",
    "    assert reduced_density_matrix.is_valid(), 'Reduced density operator is not valid'\n",
    "\n",
    "    return reduced_density_matrix\n",
    "\n",
    "def is_pure_state(rho: DensityMatrix):\n",
    "    if np.isclose(np.abs(rho.purity()), 1): \n",
    "        print(\"Pure State\")\n",
    "        return rho.to_statevector().data\n",
    "    else:\n",
    "        print(\"Mixed State\")\n",
    "        return None"
   ]
  },
  {
   "cell_type": "markdown",
   "id": "0ae9d352",
   "metadata": {},
   "source": [
    "### Two-Qubit State"
   ]
  },
  {
   "cell_type": "markdown",
   "id": "be5dc08c",
   "metadata": {},
   "source": [
    "We know that the canonical form for any two qubit states is \n",
    "\n",
    "$$|\\psi\\rangle = \\cos(\\theta)|00\\rangle + \\sin(\\theta)|11\\rangle$$\n",
    "\n",
    "This gives us the density matrix (abbreviating cosines and sines)\n",
    "\n",
    "$$\\rho_{AB} = |\\psi\\rangle\\langle\\psi| = c^2|00\\rangle\\langle 00|+ cs |00\\rangle \\langle 11| + cs |11\\rangle\\langle00| + s^2 |11\\rangle\\langle11|$$\n",
    "\n",
    "Taking the partial trace of the subsytem $B$, we get\n",
    "\n",
    "$$\\begin{align}\\rho_A = Tr_B [\\rho_{AB}] &= (I\\otimes \\langle0|)\\rho_{AB}(I\\otimes |0\\rangle) + (I\\otimes \\langle1|)\\rho_{AB}(I\\otimes |1\\rangle) \\\\ &= c^2|00\\rangle\\langle00| + s^2|11\\rangle\\langle11|\\end{align}$$\n",
    "\n",
    "This gives us an expression for purity\n",
    "\n",
    "$$\\begin{align}Tr[\\rho_A^2] &= \\cos^4(\\theta) + \\sin^4(\\theta) \\\\ &= \\frac{1}{4} \\cos(4\\theta) + \\frac{3}{4}\\end{align}$$\n",
    "\n",
    "Up to local unitary, we have\n",
    "\n",
    "$$|\\psi'\\rangle = \\cos(\\theta)|\\alpha\\beta\\rangle + \\sin(\\theta)|\\alpha_{\\perp} \\beta_{\\perp}\\rangle $$\n",
    "\n",
    "Recall that the partial trace and purity calculation is independent of subsystem basis. So now, since our state $|\\psi\\rangle$ and $|\\psi'\\rangle$ are equivalent up to local unitary, it should have the same partial trace and purity."
   ]
  },
  {
   "cell_type": "markdown",
   "id": "bfcd542d",
   "metadata": {},
   "source": [
    "Our canonical form is parameterized by an angle $\\theta$ and has a period of $2\\pi$. Our purity expression on the other hand, has a period of $\\frac{\\pi}{2}$. One would think that $|\\psi(\\theta)\\rangle \\stackrel{LU}{\\equiv}|\\psi(\\theta')\\rangle$ would implies $\\theta = \\theta'$. This is true in certain cases, for example, $\\theta' = \\theta + \\frac{\\pi n}{2}$. This is related to the fact that a Pauli $Y$ can commute through a CX gate into Pauli $Z$ and Pauli $X$. However, when $\\theta' = -\\theta + \\frac{\\pi n}{2}$, the equivalence relation does not hold. For each purity value, there are up to 8 possibles angle values on the interval of $[-\\pi, \\pi]$."
   ]
  },
  {
   "cell_type": "code",
   "execution_count": 5,
   "id": "cf4998a7",
   "metadata": {},
   "outputs": [
    {
     "data": {
      "text/plain": [
       "Text(0, 0.5, 'Purity')"
      ]
     },
     "execution_count": 5,
     "metadata": {},
     "output_type": "execute_result"
    },
    {
     "data": {
      "image/png": "[encoded data removed]",
      "text/plain": [
       "<Figure size 432x288 with 1 Axes>"
      ]
     },
     "metadata": {
      "needs_background": "light"
     },
     "output_type": "display_data"
    }
   ],
   "source": [
    "mu_list = []\n",
    "\n",
    "for theta in np.linspace(-np.pi, np.pi, 1000):\n",
    "\n",
    "    circ = QuantumCircuit(2)\n",
    "    circ.ry(2*theta, 0)\n",
    "    circ.cx(0, 1)\n",
    "    circ.unitary(random_unitary(2), 0)\n",
    "    circ.unitary(random_unitary(2), 1)\n",
    "\n",
    "    rho = DensityMatrix(circ.reverse_bits()).data\n",
    "    traced_qubit = 0\n",
    "\n",
    "    dm = one_qubit_partial_trace(rho, traced_qubit)\n",
    "\n",
    "    mu = dm.purity()\n",
    "    mu_list.append(mu)\n",
    "\n",
    "plt.plot(np.linspace(-np.pi, np.pi, 1000), mu_list)\n",
    "plt.xlabel('Angle')\n",
    "plt.ylabel('Purity')"
   ]
  },
  {
   "cell_type": "markdown",
   "id": "29ecd00e",
   "metadata": {},
   "source": [
    "### Three Qubit"
   ]
  },
  {
   "cell_type": "markdown",
   "id": "19a348c6",
   "metadata": {},
   "source": [
    "We will concern ourselves with Class 2 and Class 3 states. We can check that our states are in these two classes by taking 3 partial trace of subsystems $A, B, C$ and verifying that the corresponding reduced density matrix represents a mixed state."
   ]
  },
  {
   "cell_type": "markdown",
   "id": "9e542635",
   "metadata": {},
   "source": [
    "#### Class 2\n",
    "\n",
    "We will first look at the Class 2 states to analyze their entanglement structure. Below we show a representative circuit."
   ]
  },
  {
   "cell_type": "code",
   "execution_count": 6,
   "id": "46abdf9c",
   "metadata": {},
   "outputs": [
    {
     "data": {
      "image/png": "[encoded data removed]",
      "text/plain": [
       "<Figure size 507.997x204.68 with 1 Axes>"
      ]
     },
     "execution_count": 6,
     "metadata": {},
     "output_type": "execute_result"
    }
   ],
   "source": [
    "circ = QuantumCircuit(3)\n",
    "circ.ry(2*theta, 0)\n",
    "circ.cx(0, 1)\n",
    "circ.unitary(random_unitary(dims = 2, seed = 1), 1, label = 'U1')\n",
    "circ.unitary(random_unitary(dims = 2, seed = 2), 2, label = 'U2')\n",
    "circ.cx(1, 2)\n",
    "\n",
    "circ.barrier()\n",
    "circ.unitary(random_unitary(dims = 2, seed = 0), 0)\n",
    "circ.unitary(random_unitary(dims = 2, seed = 3), 1)\n",
    "circ.unitary(random_unitary(dims = 2, seed = 4), 2)\n",
    "\n",
    "circ.draw('mpl')"
   ]
  },
  {
   "cell_type": "markdown",
   "id": "113ccb8c",
   "metadata": {},
   "source": [
    "In fact, when we take the partial trace of a subsystem, we can ignore the layer of local unitary. We first start with tracing out qubit 0"
   ]
  },
  {
   "cell_type": "code",
   "execution_count": 7,
   "id": "5092fa0a",
   "metadata": {},
   "outputs": [
    {
     "data": {
      "text/plain": [
       "Text(0, 0.5, 'Purity')"
      ]
     },
     "execution_count": 7,
     "metadata": {},
     "output_type": "execute_result"
    },
    {
     "data": {
      "image/png": "[encoded data removed]",
      "text/plain": [
       "<Figure size 432x288 with 1 Axes>"
      ]
     },
     "metadata": {
      "needs_background": "light"
     },
     "output_type": "display_data"
    }
   ],
   "source": [
    "mu_list = []\n",
    "\n",
    "for theta in np.linspace(-np.pi, np.pi, 1000):\n",
    "\n",
    "    circ = QuantumCircuit(3)\n",
    "    circ.ry(2*theta, 0)\n",
    "    circ.cx(0, 1)\n",
    "    circ.unitary(random_unitary(dims = 2, seed = np.random.randint(0, 1000)), 1)\n",
    "    circ.unitary(random_unitary(dims = 2, seed = np.random.randint(0, 1000)), 2)\n",
    "    circ.cx(1, 2)\n",
    "\n",
    "    rho = DensityMatrix(circ.reverse_bits()).data\n",
    "    traced_qubit = 0\n",
    "\n",
    "    dm = one_qubit_partial_trace(rho, traced_qubit)\n",
    "\n",
    "    mu = dm.purity()\n",
    "\n",
    "    mu_list.append(mu)\n",
    "\n",
    "plt.plot(np.linspace(-np.pi, np.pi, 1000), mu_list)\n",
    "plt.xlabel('Angle')\n",
    "plt.ylabel('Purity')"
   ]
  },
  {
   "cell_type": "markdown",
   "id": "f600bc99",
   "metadata": {},
   "source": [
    "We see that the purity graph still depends on the angle of $\\theta$ as the two qubit case. Variations in the parameters of $U1$ and $U2$ does not affect the purity."
   ]
  },
  {
   "cell_type": "code",
   "execution_count": 8,
   "id": "e2449b90",
   "metadata": {},
   "outputs": [
    {
     "data": {
      "text/plain": [
       "Text(0, 0.5, 'Purity')"
      ]
     },
     "execution_count": 8,
     "metadata": {},
     "output_type": "execute_result"
    },
    {
     "data": {
      "image/png": "[encoded data removed]",
      "text/plain": [
       "<Figure size 432x288 with 1 Axes>"
      ]
     },
     "metadata": {
      "needs_background": "light"
     },
     "output_type": "display_data"
    }
   ],
   "source": [
    "mu_list = []\n",
    "\n",
    "for theta in np.linspace(-np.pi, np.pi, 2000):\n",
    "\n",
    "    circ = QuantumCircuit(3)\n",
    "    circ.ry(2*theta, 0)\n",
    "    circ.cx(0, 1)\n",
    "    circ.unitary(random_unitary(dims = 2, seed = np.random.randint(0, 1000) ), 1) # U1\n",
    "    circ.unitary(random_unitary(dims = 2, seed = np.random.randint(0, 1000)), 2) # U2\n",
    "    circ.cx(1, 2)\n",
    "\n",
    "    rho = DensityMatrix(circ.reverse_bits()).data\n",
    "    traced_qubit = 1\n",
    "\n",
    "    dm = one_qubit_partial_trace(rho, traced_qubit)\n",
    "\n",
    "    mu = dm.purity()\n",
    "\n",
    "    mu_list.append(mu)\n",
    "\n",
    "plt.plot(np.linspace(-np.pi, np.pi, 2000), mu_list)\n",
    "plt.xlabel('Angle')\n",
    "plt.ylabel('Purity')"
   ]
  },
  {
   "cell_type": "markdown",
   "id": "cf80d527",
   "metadata": {},
   "source": [
    "The graph still has the original periodic structure that depends on $\\theta$ that is it retains the period and range. However, now the amplitude of the function depends on the parameters of $U1$ and $U2$. (Investigate this!)"
   ]
  },
  {
   "cell_type": "code",
   "execution_count": 9,
   "id": "894c56b5",
   "metadata": {},
   "outputs": [
    {
     "data": {
      "text/plain": [
       "Text(0, 0.5, 'Purity')"
      ]
     },
     "execution_count": 9,
     "metadata": {},
     "output_type": "execute_result"
    },
    {
     "data": {
      "image/png": "[encoded data removed]",
      "text/plain": [
       "<Figure size 432x288 with 1 Axes>"
      ]
     },
     "metadata": {
      "needs_background": "light"
     },
     "output_type": "display_data"
    }
   ],
   "source": [
    "mu_list = []\n",
    "\n",
    "for theta in np.linspace(-np.pi, np.pi, 2000):\n",
    "\n",
    "    circ = QuantumCircuit(3)\n",
    "    circ.ry(2*theta, 0)\n",
    "    circ.cx(0, 1)\n",
    "    circ.unitary(random_unitary(dims = 2, seed = 2 ), 1) # U1\n",
    "    circ.unitary(random_unitary(dims = 2, seed = np.random.randint(0, 1000) ), 2) # U2\n",
    "    circ.cx(1, 2)\n",
    "\n",
    "    rho = DensityMatrix(circ.reverse_bits()).data\n",
    "    traced_qubit = 2\n",
    "\n",
    "    dm = one_qubit_partial_trace(rho, traced_qubit)\n",
    "\n",
    "    mu = dm.purity()\n",
    "\n",
    "    mu_list.append(mu)\n",
    "\n",
    "plt.plot(np.linspace(-np.pi, np.pi, 2000), mu_list)\n",
    "plt.xlabel('Angle')\n",
    "plt.ylabel('Purity')"
   ]
  },
  {
   "cell_type": "markdown",
   "id": "f885069b",
   "metadata": {},
   "source": [
    "When both parameters of $U1$ and $U2$ are randomized. The graph lost all it sinusoidal characteristic. However, it still retains the range of the angle. Interestingly, when the parameter of $U1$ are free to range, the graph fills the bottom of the curve. On the other hand, when the parameters of $U2$ are randomized. The graph fills the top fo the curve."
   ]
  },
  {
   "cell_type": "markdown",
   "id": "2e5b118f",
   "metadata": {},
   "source": [
    "To investigate the parameterization of $Tr_B[\\rho]$ and $Tr_C[\\rho]$, we decompose U1 into $Rz$ and $Ry$ (the other $Rz$ commute through the control) and we decompose U2 into $Ry$ and $Rz$ (the other $Rz$ turns into a global phase when the input of $q_2$ is $|0\\rangle$)."
   ]
  },
  {
   "cell_type": "code",
   "execution_count": 10,
   "id": "38698f09",
   "metadata": {},
   "outputs": [
    {
     "data": {
      "image/png": "[encoded data removed]",
      "text/plain": [
       "<Figure size 568.197x204.68 with 1 Axes>"
      ]
     },
     "execution_count": 10,
     "metadata": {},
     "output_type": "execute_result"
    }
   ],
   "source": [
    "circ = QuantumCircuit(3)\n",
    "circ.ry(2*theta, 0)\n",
    "circ.cx(0, 1)\n",
    "circ.unitary(random_unitary(dims = 2, seed = 1), 1, label = 'Rz1')\n",
    "circ.unitary(random_unitary(dims = 2, seed = 1), 1, label = 'Ry1')\n",
    "circ.unitary(random_unitary(dims = 2, seed = 2), 2, label = 'Ry2')\n",
    "circ.unitary(random_unitary(dims = 2, seed = 2), 2, label = 'Rz2')\n",
    "circ.cx(1, 2)\n",
    "\n",
    "circ.barrier()\n",
    "circ.unitary(random_unitary(dims = 2, seed = 0), 0)\n",
    "circ.unitary(random_unitary(dims = 2, seed = 3), 1)\n",
    "circ.unitary(random_unitary(dims = 2, seed = 4), 2)\n",
    "\n",
    "circ.draw('mpl')"
   ]
  },
  {
   "cell_type": "code",
   "execution_count": 11,
   "id": "24c912c6",
   "metadata": {},
   "outputs": [
    {
     "ename": "NameError",
     "evalue": "name 'theta_ry0' is not defined",
     "output_type": "error",
     "traceback": [
      "\u001b[0;31m---------------------------------------------------------------------------\u001b[0m",
      "\u001b[0;31mNameError\u001b[0m                                 Traceback (most recent call last)",
      "\u001b[0;32m<ipython-input-11-c505d38a756d>\u001b[0m in \u001b[0;36m<module>\u001b[0;34m\u001b[0m\n\u001b[0;32m----> 1\u001b[0;31m \u001b[0mtheta_ry0\u001b[0m\u001b[0;34m\u001b[0m\u001b[0;34m\u001b[0m\u001b[0m\n\u001b[0m\u001b[1;32m      2\u001b[0m \u001b[0mtheta_rz1\u001b[0m\u001b[0;34m\u001b[0m\u001b[0;34m\u001b[0m\u001b[0m\n\u001b[1;32m      3\u001b[0m \u001b[0mtheta_ry1\u001b[0m\u001b[0;34m\u001b[0m\u001b[0;34m\u001b[0m\u001b[0m\n\u001b[1;32m      4\u001b[0m \u001b[0mtheta_rz2\u001b[0m\u001b[0;34m\u001b[0m\u001b[0;34m\u001b[0m\u001b[0m\n\u001b[1;32m      5\u001b[0m \u001b[0mtheta_ry2\u001b[0m\u001b[0;34m\u001b[0m\u001b[0;34m\u001b[0m\u001b[0m\n",
      "\u001b[0;31mNameError\u001b[0m: name 'theta_ry0' is not defined"
     ]
    }
   ],
   "source": [
    "theta_ry0\n",
    "theta_rz1\n",
    "theta_ry1\n",
    "theta_rz2\n",
    "theta_ry2"
   ]
  },
  {
   "cell_type": "code",
   "execution_count": 12,
   "id": "630ca258",
   "metadata": {},
   "outputs": [
    {
     "data": {
      "text/plain": [
       "Text(0, 0.5, 'Purity')"
      ]
     },
     "execution_count": 12,
     "metadata": {},
     "output_type": "execute_result"
    },
    {
     "data": {
      "image/png": "[encoded data removed]",
      "text/plain": [
       "<Figure size 432x288 with 1 Axes>"
      ]
     },
     "metadata": {
      "needs_background": "light"
     },
     "output_type": "display_data"
    }
   ],
   "source": [
    "mu_list = []\n",
    "\n",
    "np.random.seed(0)\n",
    "\n",
    "theta0, theta1, theta2, epsilon1, epsilon2 = np.random.uniform(0, 2*np.pi, 5)\n",
    "\n",
    "for epsilon2 in np.linspace(-np.pi, np.pi, 200):\n",
    "\n",
    "    circ = QuantumCircuit(3)\n",
    "    circ.ry(2*theta0, 0)\n",
    "    circ.cx(0, 1)\n",
    "    \n",
    "    circ.rz(2*epsilon1, 1) # Rz1\n",
    "    circ.ry(2*theta1, 1) # Ry1\n",
    "\n",
    "    circ.ry(2*theta2, 2) # Ry2\n",
    "    circ.rz(2*epsilon2, 2) # Rz2\n",
    "    \n",
    "    circ.cx(1, 2)\n",
    "\n",
    "    rho = DensityMatrix(circ.reverse_bits()).data\n",
    "    traced_qubit = 1\n",
    "\n",
    "    dm = one_qubit_partial_trace(rho, traced_qubit)\n",
    "\n",
    "    mu = dm.purity()\n",
    "\n",
    "    mu_list.append(mu)\n",
    "\n",
    "plt.plot(np.linspace(-np.pi, np.pi, 200), mu_list)\n",
    "\n",
    "plt.xlabel('Angle')\n",
    "plt.ylabel('Purity')"
   ]
  },
  {
   "cell_type": "code",
   "execution_count": 13,
   "id": "07d18c19",
   "metadata": {},
   "outputs": [
    {
     "data": {
      "text/plain": [
       "Text(0, 0.5, 'Purity')"
      ]
     },
     "execution_count": 13,
     "metadata": {},
     "output_type": "execute_result"
    },
    {
     "data": {
      "image/png": "[encoded data removed]",
      "text/plain": [
       "<Figure size 432x288 with 1 Axes>"
      ]
     },
     "metadata": {
      "needs_background": "light"
     },
     "output_type": "display_data"
    }
   ],
   "source": [
    "mu_list = []\n",
    "\n",
    "np.random.seed(0)\n",
    "\n",
    "theta0, theta1, theta2, epsilon1, epsilon2 = np.random.uniform(0, 2*np.pi, 5)\n",
    "\n",
    "for epsilon2 in np.linspace(-np.pi, np.pi, 200):\n",
    "\n",
    "    circ = QuantumCircuit(3)\n",
    "    circ.ry(2*theta0, 0)\n",
    "    circ.cx(0, 1)\n",
    "    \n",
    "    circ.rz(2*epsilon1, 1) # Rz1\n",
    "    circ.ry(2*theta1, 1) # Ry1\n",
    "\n",
    "    circ.ry(2*theta2, 2) # Ry2\n",
    "    circ.rz(2*epsilon2, 2) # Rz2\n",
    "    \n",
    "    circ.cx(1, 2)\n",
    "\n",
    "    rho = DensityMatrix(circ.reverse_bits()).data\n",
    "    traced_qubit = 2\n",
    "\n",
    "    dm = one_qubit_partial_trace(rho, traced_qubit)\n",
    "\n",
    "    mu = dm.purity()\n",
    "\n",
    "    mu_list.append(mu)\n",
    "\n",
    "plt.plot(np.linspace(-np.pi, np.pi, 200), mu_list)\n",
    "\n",
    "plt.xlabel('Angle')\n",
    "plt.ylabel('Purity')"
   ]
  },
  {
   "cell_type": "markdown",
   "id": "be54efe0",
   "metadata": {},
   "source": [
    "The behaviour of the paramters when tracing out qubit 1 and qubit 2 is the same\n",
    "\n",
    "- $\\theta_0$ varies $\\implies \\rho$ is sinusoidal\n",
    "- $\\theta_1$ varies $\\implies \\rho$ is sinusoidal\n",
    "- $\\theta_2$ varies $\\implies \\rho$ is flipped-sinusoidal\n",
    "- $\\epsilon_1$ varies $\\implies \\rho$ is constant\n",
    "- $\\epsilon_2$ varies $\\implies \\rho$ is sinusoidal"
   ]
  },
  {
   "cell_type": "code",
   "execution_count": 14,
   "id": "ef316479",
   "metadata": {},
   "outputs": [
    {
     "data": {
      "image/png": "[encoded data removed]",
      "text/plain": [
       "<Figure size 387.597x204.68 with 1 Axes>"
      ]
     },
     "execution_count": 14,
     "metadata": {},
     "output_type": "execute_result"
    }
   ],
   "source": [
    "np.random.seed(2)\n",
    "\n",
    "theta0, theta1, theta2, epsilon1, epsilon2 = np.random.uniform(0, 2*np.pi, 5)\n",
    "\n",
    "circ = QuantumCircuit(3)\n",
    "\n",
    "circ.ry(2*theta0, 0)\n",
    "\n",
    "circ.cx(0, 1)\n",
    "\n",
    "circ.ry(2*theta2, 2) # Ry2\n",
    "circ.rz(2*epsilon2, 2) # Rz2\n",
    "\n",
    "circ.rz(2*epsilon1, 1) # Rz1\n",
    "circ.ry(2*theta1, 1) # Ry1\n",
    "\n",
    "circ.cx(1, 2)\n",
    "\n",
    "circ.draw('mpl')"
   ]
  },
  {
   "cell_type": "markdown",
   "id": "a0121849",
   "metadata": {},
   "source": [
    "We will start looking at the properties above algebraically. First, we reconstruct the state $|\\psi\\rangle$ in terms of the parameters"
   ]
  },
  {
   "cell_type": "code",
   "execution_count": 424,
   "id": "60bfe559",
   "metadata": {},
   "outputs": [],
   "source": [
    "from sympy.physics.quantum import TensorProduct as tp\n",
    "CX = Matrix([[1, 0, 0, 0], [0, 1, 0, 0], [0, 0, 0, 1], [0, 0, 1, 0]])\n",
    "Ry = lambda theta: Matrix([[cos(theta/2), -sin(theta/2)], [sin(theta/2), cos(theta/2)]])\n",
    "Rz = lambda theta: Matrix([[exp(I*-theta/2), 0], [0, exp(I*theta/2)]])\n",
    "ID = Matrix([[1, 0], [0, 1]])"
   ]
  },
  {
   "cell_type": "code",
   "execution_count": 425,
   "id": "310e2778",
   "metadata": {},
   "outputs": [],
   "source": [
    "t = [symbols(f'theta_{i}') for i in range(3)]\n",
    "e = [symbols(f'epsilon_{i}') for i in range(3)]\n",
    "\n",
    "ket_psi = (tp(ID, CX)@tp(ID, Ry(t[1]*2)@Rz(e[1]*2), ID)@tp(CX, ID)@tp(Ry(t[0]*2), ID, Rz(e[2]*2)@Ry(t[2]*2)))[:, 0]"
   ]
  },
  {
   "cell_type": "code",
   "execution_count": 426,
   "id": "ff4b3674",
   "metadata": {},
   "outputs": [
    {
     "data": {
      "text/latex": [
       "$\\displaystyle \\left[\\begin{matrix}e^{- i \\epsilon_{1}} e^{- i \\epsilon_{2}} \\cos{\\left(\\theta_{0} \\right)} \\cos{\\left(\\theta_{1} \\right)} \\cos{\\left(\\theta_{2} \\right)}\\\\e^{- i \\epsilon_{1}} e^{i \\epsilon_{2}} \\sin{\\left(\\theta_{2} \\right)} \\cos{\\left(\\theta_{0} \\right)} \\cos{\\left(\\theta_{1} \\right)}\\\\e^{- i \\epsilon_{1}} e^{i \\epsilon_{2}} \\sin{\\left(\\theta_{1} \\right)} \\sin{\\left(\\theta_{2} \\right)} \\cos{\\left(\\theta_{0} \\right)}\\\\e^{- i \\epsilon_{1}} e^{- i \\epsilon_{2}} \\sin{\\left(\\theta_{1} \\right)} \\cos{\\left(\\theta_{0} \\right)} \\cos{\\left(\\theta_{2} \\right)}\\\\- e^{i \\epsilon_{1}} e^{- i \\epsilon_{2}} \\sin{\\left(\\theta_{0} \\right)} \\sin{\\left(\\theta_{1} \\right)} \\cos{\\left(\\theta_{2} \\right)}\\\\- e^{i \\epsilon_{1}} e^{i \\epsilon_{2}} \\sin{\\left(\\theta_{0} \\right)} \\sin{\\left(\\theta_{1} \\right)} \\sin{\\left(\\theta_{2} \\right)}\\\\e^{i \\epsilon_{1}} e^{i \\epsilon_{2}} \\sin{\\left(\\theta_{0} \\right)} \\sin{\\left(\\theta_{2} \\right)} \\cos{\\left(\\theta_{1} \\right)}\\\\e^{i \\epsilon_{1}} e^{- i \\epsilon_{2}} \\sin{\\left(\\theta_{0} \\right)} \\cos{\\left(\\theta_{1} \\right)} \\cos{\\left(\\theta_{2} \\right)}\\end{matrix}\\right]$"
      ],
      "text/plain": [
       "Matrix([\n",
       "[exp(-I*epsilon_1)*exp(-I*epsilon_2)*cos(theta_0)*cos(theta_1)*cos(theta_2)],\n",
       "[ exp(-I*epsilon_1)*exp(I*epsilon_2)*sin(theta_2)*cos(theta_0)*cos(theta_1)],\n",
       "[ exp(-I*epsilon_1)*exp(I*epsilon_2)*sin(theta_1)*sin(theta_2)*cos(theta_0)],\n",
       "[exp(-I*epsilon_1)*exp(-I*epsilon_2)*sin(theta_1)*cos(theta_0)*cos(theta_2)],\n",
       "[-exp(I*epsilon_1)*exp(-I*epsilon_2)*sin(theta_0)*sin(theta_1)*cos(theta_2)],\n",
       "[ -exp(I*epsilon_1)*exp(I*epsilon_2)*sin(theta_0)*sin(theta_1)*sin(theta_2)],\n",
       "[  exp(I*epsilon_1)*exp(I*epsilon_2)*sin(theta_0)*sin(theta_2)*cos(theta_1)],\n",
       "[ exp(I*epsilon_1)*exp(-I*epsilon_2)*sin(theta_0)*cos(theta_1)*cos(theta_2)]])"
      ]
     },
     "execution_count": 426,
     "metadata": {},
     "output_type": "execute_result"
    }
   ],
   "source": [
    "ket_psi"
   ]
  },
  {
   "cell_type": "code",
   "execution_count": 427,
   "id": "102f4807",
   "metadata": {},
   "outputs": [],
   "source": [
    "# Test for correctness\n",
    "psi_actual = Statevector(circ.reverse_bits()).data.reshape(8, 1)\n",
    "psi_test = simplify(ket_psi.subs([(t[0], theta0), \n",
    "          (t[1], theta1), \n",
    "          (t[2], theta2), \n",
    "          (e[1], epsilon1), \n",
    "          (e[2], epsilon2)]))\n",
    "\n",
    "psi_test = np.array(psi_test).astype(np.complex128)\n",
    "\n",
    "aae(psi_actual, psi_test)"
   ]
  },
  {
   "cell_type": "markdown",
   "id": "2a06b8ff",
   "metadata": {},
   "source": [
    "Now we construct the density matrix"
   ]
  },
  {
   "cell_type": "code",
   "execution_count": 428,
   "id": "d969c7d9",
   "metadata": {},
   "outputs": [
    {
     "data": {
      "text/latex": [
       "$\\displaystyle 1$"
      ],
      "text/plain": [
       "1"
      ]
     },
     "execution_count": 428,
     "metadata": {},
     "output_type": "execute_result"
    }
   ],
   "source": [
    "bra_psi = Matrix([[exp(-I*-e[1])*exp(-I*-e[2])*cos(t[0])*cos(t[1])*cos(t[2]),exp(-I*-e[1])*exp(I*-e[2])*sin(t[2])*cos(t[0])*cos(t[1]),exp(-I*-e[1])*exp(I*-e[2])*sin(t[1])*sin(t[2])*cos(t[0]),exp(-I*-e[1])*exp(-I*-e[2])*sin(t[1])*cos(t[0])*cos(t[2]),-exp(I*-e[1])*exp(-I*-e[2])*sin(t[0])*sin(t[1])*cos(t[2]),-exp(I*-e[1])*exp(I*-e[2])*sin(t[0])*sin(t[1])*sin(t[2]),exp(I*-e[1])*exp(I*-e[2])*sin(t[0])*sin(t[2])*cos(t[1]),exp(I*-e[1])*exp(-I*-e[2])*sin(t[0])*cos(t[1])*cos(t[2])]])\n",
    "\n",
    "rho = ket_psi@bra_psi\n",
    "\n",
    "# We verify that the trace is equal to 1\n",
    "simplify(simplify(Trace(rho)))"
   ]
  },
  {
   "cell_type": "markdown",
   "id": "35149fef",
   "metadata": {},
   "source": [
    "We now look at the partial trace. We will rebuild the partial trace function from above"
   ]
  },
  {
   "cell_type": "code",
   "execution_count": 419,
   "id": "5d09c538",
   "metadata": {},
   "outputs": [],
   "source": [
    "def one_qubit_partial_trace_sym(rho: Matrix, traced_qubit: int) -> Matrix:\n",
    "\n",
    "    dim = int(np.log2(rho.shape[0]))\n",
    "    assert traced_qubit < dim, \"Traced qubit index out of range\"\n",
    "    \n",
    "    ID = Matrix([[1, 0], [0, 1]])\n",
    "    zero = Matrix([[1], [0]])\n",
    "    one = Matrix([[0], [1]])\n",
    "\n",
    "    # Create pre and post of partial trace\n",
    "    pre_zero = tp(*[zero.T if i == traced_qubit else ID for i in range(dim)])\n",
    "    post_zero = tp(*[zero if i == traced_qubit else ID for i in range(dim)])\n",
    "    pre_one = tp(*[one.T if i == traced_qubit else ID for i in range(dim)])\n",
    "    post_one = tp(*[one if i == traced_qubit else ID for i in range(dim)])\n",
    "\n",
    "    reduced_density_matrix = pre_zero@rho@post_zero + pre_one@rho@post_one\n",
    "\n",
    "    assert simplify(simplify(Trace(reduced_density_matrix))) == 1, 'Reduced density operator is not valid'\n",
    "    return reduced_density_matrix"
   ]
  },
  {
   "cell_type": "code",
   "execution_count": 420,
   "id": "38227d3c",
   "metadata": {},
   "outputs": [],
   "source": [
    "trace_sym = lambda rho: simplify(simplify(Trace(rho@rho))) # Symbolic trace"
   ]
  },
  {
   "cell_type": "markdown",
   "id": "4fc8bdf0",
   "metadata": {},
   "source": [
    "#### 1. Subsystem $\\rho_{BC}$"
   ]
  },
  {
   "cell_type": "code",
   "execution_count": 22,
   "id": "2bb89c4f",
   "metadata": {
    "scrolled": true
   },
   "outputs": [
    {
     "data": {
      "text/latex": [
       "$\\displaystyle 2 \\sin^{4}{\\left(\\theta_{0} \\right)} - 2 \\sin^{2}{\\left(\\theta_{0} \\right)} + 1$"
      ],
      "text/plain": [
       "2*sin(theta_0)**4 - 2*sin(theta_0)**2 + 1"
      ]
     },
     "execution_count": 22,
     "metadata": {},
     "output_type": "execute_result"
    }
   ],
   "source": [
    "rho_0 = one_qubit_partial_trace_sym(rho, 0)\n",
    "\n",
    "purity0 = trace_sym(rho_0)\n",
    "\n",
    "purity0"
   ]
  },
  {
   "cell_type": "markdown",
   "id": "edf71b05",
   "metadata": {},
   "source": [
    "We have an expression for the purity of the mixed state of combined subsystem $BC$. Interestingly, it only depends on one parameter $\\theta_0$. In addition, the expression below is exactly the same as that the traced subsystem of the 2 qubit case.\n",
    "\n",
    "$$\\begin{align} Tr[\\rho_{BC}^2] &= 2\\sin^4(\\theta_0) - 2\\sin^2(\\theta_0) + 1 \\\\ &= \\sin^4(\\theta_0) + \\sin^4(\\theta_0) - 2\\sin^2(\\theta_0) + 1 \\\\ &= \\sin^4(\\theta_0) + (1-\\sin^2(\\theta_0))^2 \\\\ &= \\sin^4(\\theta_0) + \\cos^4(\\theta_0) \\\\ &= \\frac{3}{4}\\cos(4\\theta_0) + \\frac{1}{4}\\end{align}$$"
   ]
  },
  {
   "cell_type": "markdown",
   "id": "71c9c03c",
   "metadata": {},
   "source": [
    "#### 2. Subsystem $\\rho_{AC}$"
   ]
  },
  {
   "cell_type": "code",
   "execution_count": 24,
   "id": "feb31ebc",
   "metadata": {},
   "outputs": [
    {
     "data": {
      "text/latex": [
       "$\\displaystyle 2 e^{4 i \\epsilon_{2}} \\sin^{4}{\\left(\\theta_{0} \\right)} \\sin^{2}{\\left(\\theta_{1} \\right)} \\sin^{2}{\\left(\\theta_{2} \\right)} \\cos^{2}{\\left(\\theta_{1} \\right)} \\cos^{2}{\\left(\\theta_{2} \\right)} - 4 e^{4 i \\epsilon_{2}} \\sin^{2}{\\left(\\theta_{0} \\right)} \\sin^{2}{\\left(\\theta_{1} \\right)} \\sin^{2}{\\left(\\theta_{2} \\right)} \\cos^{2}{\\left(\\theta_{0} \\right)} \\cos^{2}{\\left(\\theta_{1} \\right)} \\cos^{2}{\\left(\\theta_{2} \\right)} + 2 e^{4 i \\epsilon_{2}} \\sin^{2}{\\left(\\theta_{1} \\right)} \\sin^{2}{\\left(\\theta_{2} \\right)} \\cos^{4}{\\left(\\theta_{0} \\right)} \\cos^{2}{\\left(\\theta_{1} \\right)} \\cos^{2}{\\left(\\theta_{2} \\right)} - \\frac{\\sin^{4}{\\left(\\theta_{0} \\right)} \\sin^{4}{\\left(\\theta_{1} \\right)} \\cos{\\left(4 \\theta_{2} \\right)}}{4} + \\frac{\\sin^{4}{\\left(\\theta_{0} \\right)} \\sin^{4}{\\left(\\theta_{1} \\right)}}{4} - \\frac{\\sin^{4}{\\left(\\theta_{0} \\right)} \\cos^{4}{\\left(\\theta_{1} \\right)} \\cos{\\left(4 \\theta_{2} \\right)}}{4} + \\frac{\\sin^{4}{\\left(\\theta_{0} \\right)} \\cos^{4}{\\left(\\theta_{1} \\right)}}{4} + \\frac{\\sin^{4}{\\left(\\theta_{0} \\right)} \\cos^{2}{\\left(2 \\theta_{1} - 2 \\theta_{2} \\right)}}{8} + \\frac{\\sin^{4}{\\left(\\theta_{0} \\right)} \\cos{\\left(2 \\theta_{1} - 2 \\theta_{2} \\right)} \\cos{\\left(2 \\theta_{1} + 2 \\theta_{2} \\right)}}{4} + \\frac{\\sin^{4}{\\left(\\theta_{0} \\right)} \\cos^{2}{\\left(2 \\theta_{1} + 2 \\theta_{2} \\right)}}{8} + \\frac{\\sin^{4}{\\left(\\theta_{0} \\right)}}{2} + 8 \\sin^{2}{\\left(\\theta_{0} \\right)} \\sin^{2}{\\left(\\theta_{1} \\right)} \\sin^{2}{\\left(\\theta_{2} \\right)} \\cos^{2}{\\left(\\theta_{0} \\right)} \\cos^{2}{\\left(\\theta_{1} \\right)} \\cos^{2}{\\left(\\theta_{2} \\right)} + 4 \\sin^{2}{\\left(\\theta_{0} \\right)} \\sin^{2}{\\left(\\theta_{1} \\right)} \\cos^{2}{\\left(\\theta_{0} \\right)} \\cos^{2}{\\left(\\theta_{1} \\right)} \\cos^{2}{\\left(2 \\theta_{2} \\right)} - \\frac{\\sin^{4}{\\left(\\theta_{1} \\right)} \\cos^{4}{\\left(\\theta_{0} \\right)} \\cos{\\left(4 \\theta_{2} \\right)}}{4} + \\frac{\\sin^{4}{\\left(\\theta_{1} \\right)} \\cos^{4}{\\left(\\theta_{0} \\right)}}{4} - \\frac{\\cos^{4}{\\left(\\theta_{0} \\right)} \\cos^{4}{\\left(\\theta_{1} \\right)} \\cos{\\left(4 \\theta_{2} \\right)}}{4} + \\frac{\\cos^{4}{\\left(\\theta_{0} \\right)} \\cos^{4}{\\left(\\theta_{1} \\right)}}{4} + \\frac{\\cos^{4}{\\left(\\theta_{0} \\right)} \\cos^{2}{\\left(2 \\theta_{1} - 2 \\theta_{2} \\right)}}{8} + \\frac{\\cos^{4}{\\left(\\theta_{0} \\right)} \\cos{\\left(2 \\theta_{1} - 2 \\theta_{2} \\right)} \\cos{\\left(2 \\theta_{1} + 2 \\theta_{2} \\right)}}{4} + \\frac{\\cos^{4}{\\left(\\theta_{0} \\right)} \\cos^{2}{\\left(2 \\theta_{1} + 2 \\theta_{2} \\right)}}{8} + \\frac{\\cos^{4}{\\left(\\theta_{0} \\right)}}{2} + 2 e^{- 4 i \\epsilon_{2}} \\sin^{4}{\\left(\\theta_{0} \\right)} \\sin^{2}{\\left(\\theta_{1} \\right)} \\sin^{2}{\\left(\\theta_{2} \\right)} \\cos^{2}{\\left(\\theta_{1} \\right)} \\cos^{2}{\\left(\\theta_{2} \\right)} - 4 e^{- 4 i \\epsilon_{2}} \\sin^{2}{\\left(\\theta_{0} \\right)} \\sin^{2}{\\left(\\theta_{1} \\right)} \\sin^{2}{\\left(\\theta_{2} \\right)} \\cos^{2}{\\left(\\theta_{0} \\right)} \\cos^{2}{\\left(\\theta_{1} \\right)} \\cos^{2}{\\left(\\theta_{2} \\right)} + 2 e^{- 4 i \\epsilon_{2}} \\sin^{2}{\\left(\\theta_{1} \\right)} \\sin^{2}{\\left(\\theta_{2} \\right)} \\cos^{4}{\\left(\\theta_{0} \\right)} \\cos^{2}{\\left(\\theta_{1} \\right)} \\cos^{2}{\\left(\\theta_{2} \\right)}$"
      ],
      "text/plain": [
       "2*exp(4*I*epsilon_2)*sin(theta_0)**4*sin(theta_1)**2*sin(theta_2)**2*cos(theta_1)**2*cos(theta_2)**2 - 4*exp(4*I*epsilon_2)*sin(theta_0)**2*sin(theta_1)**2*sin(theta_2)**2*cos(theta_0)**2*cos(theta_1)**2*cos(theta_2)**2 + 2*exp(4*I*epsilon_2)*sin(theta_1)**2*sin(theta_2)**2*cos(theta_0)**4*cos(theta_1)**2*cos(theta_2)**2 - sin(theta_0)**4*sin(theta_1)**4*cos(4*theta_2)/4 + sin(theta_0)**4*sin(theta_1)**4/4 - sin(theta_0)**4*cos(theta_1)**4*cos(4*theta_2)/4 + sin(theta_0)**4*cos(theta_1)**4/4 + sin(theta_0)**4*cos(2*theta_1 - 2*theta_2)**2/8 + sin(theta_0)**4*cos(2*theta_1 - 2*theta_2)*cos(2*theta_1 + 2*theta_2)/4 + sin(theta_0)**4*cos(2*theta_1 + 2*theta_2)**2/8 + sin(theta_0)**4/2 + 8*sin(theta_0)**2*sin(theta_1)**2*sin(theta_2)**2*cos(theta_0)**2*cos(theta_1)**2*cos(theta_2)**2 + 4*sin(theta_0)**2*sin(theta_1)**2*cos(theta_0)**2*cos(theta_1)**2*cos(2*theta_2)**2 - sin(theta_1)**4*cos(theta_0)**4*cos(4*theta_2)/4 + sin(theta_1)**4*cos(theta_0)**4/4 - cos(theta_0)**4*cos(theta_1)**4*cos(4*theta_2)/4 + cos(theta_0)**4*cos(theta_1)**4/4 + cos(theta_0)**4*cos(2*theta_1 - 2*theta_2)**2/8 + cos(theta_0)**4*cos(2*theta_1 - 2*theta_2)*cos(2*theta_1 + 2*theta_2)/4 + cos(theta_0)**4*cos(2*theta_1 + 2*theta_2)**2/8 + cos(theta_0)**4/2 + 2*exp(-4*I*epsilon_2)*sin(theta_0)**4*sin(theta_1)**2*sin(theta_2)**2*cos(theta_1)**2*cos(theta_2)**2 - 4*exp(-4*I*epsilon_2)*sin(theta_0)**2*sin(theta_1)**2*sin(theta_2)**2*cos(theta_0)**2*cos(theta_1)**2*cos(theta_2)**2 + 2*exp(-4*I*epsilon_2)*sin(theta_1)**2*sin(theta_2)**2*cos(theta_0)**4*cos(theta_1)**2*cos(theta_2)**2"
      ]
     },
     "execution_count": 24,
     "metadata": {},
     "output_type": "execute_result"
    }
   ],
   "source": [
    "rho_1 = one_qubit_partial_trace_sym(rho, 1)\n",
    "\n",
    "purity1 = simplify(trace_sym(rho_1))\n",
    "\n",
    "purity1"
   ]
  },
  {
   "cell_type": "markdown",
   "id": "d5b284a3",
   "metadata": {},
   "source": [
    "If we separate the real and the complex part of this expression and simplify them individually, and after that add them together, we get a real expression. This is because the value for purity is real. If we look at all the parameters in the expression, we will see that $\\epsilon_1$ is missing. The confirms our observation that $\\epsilon_1$ remains constant from above."
   ]
  },
  {
   "cell_type": "code",
   "execution_count": 25,
   "id": "4d3ddedf",
   "metadata": {},
   "outputs": [
    {
     "data": {
      "text/plain": [
       "{epsilon_2, theta_0, theta_1, theta_2}"
      ]
     },
     "execution_count": 25,
     "metadata": {},
     "output_type": "execute_result"
    }
   ],
   "source": [
    "purity1.free_symbols"
   ]
  },
  {
   "cell_type": "code",
   "execution_count": 26,
   "id": "5f09fcab",
   "metadata": {
    "scrolled": true
   },
   "outputs": [
    {
     "name": "stdout",
     "output_type": "stream",
     "text": [
      "0 cos(theta_0)**4/2 \n",
      "\n",
      "1 sin(theta_0)**4/2 \n",
      "\n",
      "2 cos(theta_0)**4*cos(theta_1)**4/4 \n",
      "\n",
      "3 sin(theta_1)**4*cos(theta_0)**4/4 \n",
      "\n",
      "4 sin(theta_0)**4*cos(theta_1)**4/4 \n",
      "\n",
      "5 sin(theta_0)**4*sin(theta_1)**4/4 \n",
      "\n",
      "6 cos(theta_0)**4*cos(2*theta_1 - 2*theta_2)**2/8 \n",
      "\n",
      "7 cos(theta_0)**4*cos(2*theta_1 + 2*theta_2)**2/8 \n",
      "\n",
      "8 sin(theta_0)**4*cos(2*theta_1 - 2*theta_2)**2/8 \n",
      "\n",
      "9 sin(theta_0)**4*cos(2*theta_1 + 2*theta_2)**2/8 \n",
      "\n",
      "10 -cos(theta_0)**4*cos(theta_1)**4*cos(4*theta_2)/4 \n",
      "\n",
      "11 -sin(theta_1)**4*cos(theta_0)**4*cos(4*theta_2)/4 \n",
      "\n",
      "12 -sin(theta_0)**4*cos(theta_1)**4*cos(4*theta_2)/4 \n",
      "\n",
      "13 -sin(theta_0)**4*sin(theta_1)**4*cos(4*theta_2)/4 \n",
      "\n",
      "14 cos(theta_0)**4*cos(2*theta_1 - 2*theta_2)*cos(2*theta_1 + 2*theta_2)/4 \n",
      "\n",
      "15 sin(theta_0)**4*cos(2*theta_1 - 2*theta_2)*cos(2*theta_1 + 2*theta_2)/4 \n",
      "\n",
      "16 4*sin(theta_0)**2*sin(theta_1)**2*cos(theta_0)**2*cos(theta_1)**2*cos(2*theta_2)**2 \n",
      "\n",
      "17 2*exp(-4*I*epsilon_2)*sin(theta_1)**2*sin(theta_2)**2*cos(theta_0)**4*cos(theta_1)**2*cos(theta_2)**2 \n",
      "\n",
      "18 2*exp(4*I*epsilon_2)*sin(theta_1)**2*sin(theta_2)**2*cos(theta_0)**4*cos(theta_1)**2*cos(theta_2)**2 \n",
      "\n",
      "19 2*exp(-4*I*epsilon_2)*sin(theta_0)**4*sin(theta_1)**2*sin(theta_2)**2*cos(theta_1)**2*cos(theta_2)**2 \n",
      "\n",
      "20 2*exp(4*I*epsilon_2)*sin(theta_0)**4*sin(theta_1)**2*sin(theta_2)**2*cos(theta_1)**2*cos(theta_2)**2 \n",
      "\n",
      "21 8*sin(theta_0)**2*sin(theta_1)**2*sin(theta_2)**2*cos(theta_0)**2*cos(theta_1)**2*cos(theta_2)**2 \n",
      "\n",
      "22 -4*exp(-4*I*epsilon_2)*sin(theta_0)**2*sin(theta_1)**2*sin(theta_2)**2*cos(theta_0)**2*cos(theta_1)**2*cos(theta_2)**2 \n",
      "\n",
      "23 -4*exp(4*I*epsilon_2)*sin(theta_0)**2*sin(theta_1)**2*sin(theta_2)**2*cos(theta_0)**2*cos(theta_1)**2*cos(theta_2)**2 \n",
      "\n"
     ]
    }
   ],
   "source": [
    "terms = purity1.args\n",
    "\n",
    "for i, term in enumerate(terms):\n",
    "    print(i, term, '\\n')"
   ]
  },
  {
   "cell_type": "code",
   "execution_count": 27,
   "id": "8f24cf6e",
   "metadata": {},
   "outputs": [],
   "source": [
    "real_terms = sum(terms[:17] + (terms[21], ))\n",
    "real_terms = simplify(simplify(real_terms))\n",
    "\n",
    "complex_terms = sum(terms[17:21] + terms[22:])\n",
    "complex_terms = simplify(simplify(complex_terms))"
   ]
  },
  {
   "cell_type": "code",
   "execution_count": 28,
   "id": "bf1393dd",
   "metadata": {},
   "outputs": [],
   "source": [
    "purity1 = expand(real_terms + complex_terms)"
   ]
  },
  {
   "cell_type": "code",
   "execution_count": null,
   "id": "c7ab5aa5",
   "metadata": {},
   "outputs": [],
   "source": [
    "# Testing expression\n",
    "\n",
    "for i in range(100):\n",
    "    np.random.seed(i)\n",
    "\n",
    "    theta0, theta1, theta2, epsilon1, epsilon2 = np.random.uniform(0, 2*np.pi, 5)\n",
    "\n",
    "    circ = QuantumCircuit(3)\n",
    "    circ.ry(2*theta0, 0)\n",
    "    circ.cx(0, 1)\n",
    "\n",
    "    circ.rz(2*epsilon1, 1) # Rz1\n",
    "    circ.ry(2*theta1, 1) # Ry1\n",
    "\n",
    "    circ.ry(2*theta2, 2) # Ry2\n",
    "    circ.rz(2*epsilon2, 2) # Rz2\n",
    "\n",
    "    circ.cx(1, 2)\n",
    "\n",
    "    rho = DensityMatrix(circ.reverse_bits()).data\n",
    "    traced_qubit = 1\n",
    "\n",
    "    dm = one_qubit_partial_trace(rho, traced_qubit)\n",
    "\n",
    "    mu_actual = dm.purity()\n",
    "\n",
    "    mu_test = simplify(final_purity1.subs([(t[0], theta0), \n",
    "              (t[1], theta1), \n",
    "              (t[2], theta2), \n",
    "              (e[1], epsilon1), \n",
    "              (e[2], epsilon2)]))\n",
    "\n",
    "    aae(float(mu_test), mu_actual)"
   ]
  },
  {
   "cell_type": "code",
   "execution_count": 29,
   "id": "dad89363",
   "metadata": {},
   "outputs": [
    {
     "data": {
      "text/plain": [
       "(1,\n",
       " -2*sin(theta_0)**2,\n",
       " -2*sin(theta_1)**2,\n",
       " 2*sin(theta_0)**4,\n",
       " 2*sin(theta_1)**4,\n",
       " -8*sin(theta_0)**2*sin(theta_1)**4,\n",
       " -8*sin(theta_0)**4*sin(theta_1)**2,\n",
       " -4*sin(theta_1)**2*sin(theta_2)**4,\n",
       " -4*sin(theta_1)**4*sin(theta_2)**2,\n",
       " 4*sin(theta_1)**2*sin(theta_2)**2,\n",
       " 4*sin(theta_1)**4*sin(theta_2)**4,\n",
       " 8*sin(theta_0)**2*sin(theta_1)**2,\n",
       " 8*sin(theta_0)**4*sin(theta_1)**4,\n",
       " -16*sin(theta_0)**2*sin(theta_1)**2*sin(theta_2)**2,\n",
       " -16*sin(theta_0)**2*sin(theta_1)**4*sin(theta_2)**4,\n",
       " -16*sin(theta_0)**4*sin(theta_1)**2*sin(theta_2)**4,\n",
       " -16*sin(theta_0)**4*sin(theta_1)**4*sin(theta_2)**2,\n",
       " 16*sin(theta_0)**2*sin(theta_1)**2*sin(theta_2)**4,\n",
       " 16*sin(theta_0)**2*sin(theta_1)**4*sin(theta_2)**2,\n",
       " 16*sin(theta_0)**4*sin(theta_1)**2*sin(theta_2)**2,\n",
       " 16*sin(theta_0)**4*sin(theta_1)**4*sin(theta_2)**4,\n",
       " 4*sin(theta_1)**2*sin(theta_2)**2*cos(theta_1)**2*cos(theta_2)**2,\n",
       " -32*sin(theta_1)**2*sin(theta_2)**2*cos(epsilon_2)**2*cos(theta_1)**2*cos(theta_2)**2,\n",
       " -16*sin(theta_1)**2*sin(theta_2)**2*cos(theta_0)**2*cos(theta_1)**2*cos(theta_2)**2,\n",
       " 16*sin(theta_1)**2*sin(theta_2)**2*cos(theta_0)**4*cos(theta_1)**2*cos(theta_2)**2,\n",
       " 32*sin(theta_1)**2*sin(theta_2)**2*cos(epsilon_2)**4*cos(theta_1)**2*cos(theta_2)**2,\n",
       " -128*sin(theta_1)**2*sin(theta_2)**2*cos(epsilon_2)**2*cos(theta_0)**4*cos(theta_1)**2*cos(theta_2)**2,\n",
       " -128*sin(theta_1)**2*sin(theta_2)**2*cos(epsilon_2)**4*cos(theta_0)**2*cos(theta_1)**2*cos(theta_2)**2,\n",
       " 128*sin(theta_1)**2*sin(theta_2)**2*cos(epsilon_2)**2*cos(theta_0)**2*cos(theta_1)**2*cos(theta_2)**2,\n",
       " 128*sin(theta_1)**2*sin(theta_2)**2*cos(epsilon_2)**4*cos(theta_0)**4*cos(theta_1)**2*cos(theta_2)**2)"
      ]
     },
     "execution_count": 29,
     "metadata": {},
     "output_type": "execute_result"
    }
   ],
   "source": [
    "terms = expand(expand_trig(purity1)).args\n",
    "\n",
    "terms"
   ]
  },
  {
   "cell_type": "markdown",
   "id": "274b3d4a",
   "metadata": {},
   "source": [
    "Looking at the terms of our expression, we see that we have:\n",
    "\n",
    "Real Terms\n",
    "- 1 terms of coefficient 1, each has 0 trig terms\n",
    "- 4 terms with coefficient ±2, each has 1 trig terms\n",
    "- 4 terms with coefficient ±4, each has 2 trig terms\n",
    "- 4 terms with coefficient ±8, each has 2 trig terms\n",
    "- 8 terms with coefficient ±16, each has 3 trig terms\n",
    "\n",
    "Imaginary Terms\n",
    "- 1 terms with coefficient 4, each has 4 trig terms\n",
    "- 2 terms with coefficient ±16, each has 5 trig terms\n",
    "- 2 terms with coefficient ±32, each has 5 trig terms\n",
    "- 4 terms with coefficient ±128, each has 6 trig terms"
   ]
  },
  {
   "cell_type": "code",
   "execution_count": 231,
   "id": "6c473626",
   "metadata": {},
   "outputs": [],
   "source": [
    "from sympy.simplify.fu import *"
   ]
  },
  {
   "cell_type": "code",
   "execution_count": 285,
   "id": "c2de4ec1",
   "metadata": {},
   "outputs": [
    {
     "data": {
      "text/latex": [
       "$\\displaystyle 1$"
      ],
      "text/plain": [
       "1"
      ]
     },
     "metadata": {},
     "output_type": "display_data"
    },
    {
     "data": {
      "text/latex": [
       "$\\displaystyle - 2 \\sin^{2}{\\left(\\theta_{1} \\right)}$"
      ],
      "text/plain": [
       "-2*sin(theta_1)**2"
      ]
     },
     "metadata": {},
     "output_type": "display_data"
    },
    {
     "data": {
      "text/latex": [
       "$\\displaystyle 2 \\sin^{4}{\\left(\\theta_{1} \\right)}$"
      ],
      "text/plain": [
       "2*sin(theta_1)**4"
      ]
     },
     "metadata": {},
     "output_type": "display_data"
    },
    {
     "data": {
      "text/latex": [
       "$\\displaystyle \\left(- 128 \\sin^{4}{\\left(\\epsilon_{2} \\right)} \\sin^{4}{\\left(\\theta_{1} \\right)} \\sin^{4}{\\left(\\theta_{2} \\right)} + 128 \\sin^{4}{\\left(\\epsilon_{2} \\right)} \\sin^{4}{\\left(\\theta_{1} \\right)} \\sin^{2}{\\left(\\theta_{2} \\right)} + 128 \\sin^{4}{\\left(\\epsilon_{2} \\right)} \\sin^{2}{\\left(\\theta_{1} \\right)} \\sin^{4}{\\left(\\theta_{2} \\right)} - 128 \\sin^{4}{\\left(\\epsilon_{2} \\right)} \\sin^{2}{\\left(\\theta_{1} \\right)} \\sin^{2}{\\left(\\theta_{2} \\right)} + 128 \\sin^{2}{\\left(\\epsilon_{2} \\right)} \\sin^{4}{\\left(\\theta_{1} \\right)} \\sin^{4}{\\left(\\theta_{2} \\right)} - 128 \\sin^{2}{\\left(\\epsilon_{2} \\right)} \\sin^{4}{\\left(\\theta_{1} \\right)} \\sin^{2}{\\left(\\theta_{2} \\right)} - 128 \\sin^{2}{\\left(\\epsilon_{2} \\right)} \\sin^{2}{\\left(\\theta_{1} \\right)} \\sin^{4}{\\left(\\theta_{2} \\right)} + 128 \\sin^{2}{\\left(\\epsilon_{2} \\right)} \\sin^{2}{\\left(\\theta_{1} \\right)} \\sin^{2}{\\left(\\theta_{2} \\right)} - 32 \\sin^{4}{\\left(\\theta_{1} \\right)} \\sin^{4}{\\left(\\theta_{2} \\right)} + 32 \\sin^{4}{\\left(\\theta_{1} \\right)} \\sin^{2}{\\left(\\theta_{2} \\right)} - 8 \\sin^{4}{\\left(\\theta_{1} \\right)} + 32 \\sin^{2}{\\left(\\theta_{1} \\right)} \\sin^{4}{\\left(\\theta_{2} \\right)} - 32 \\sin^{2}{\\left(\\theta_{1} \\right)} \\sin^{2}{\\left(\\theta_{2} \\right)} + 8 \\sin^{2}{\\left(\\theta_{1} \\right)} - 2\\right) \\sin^{2}{\\left(\\theta_{0} \\right)}$"
      ],
      "text/plain": [
       "(-128*sin(epsilon_2)**4*sin(theta_1)**4*sin(theta_2)**4 + 128*sin(epsilon_2)**4*sin(theta_1)**4*sin(theta_2)**2 + 128*sin(epsilon_2)**4*sin(theta_1)**2*sin(theta_2)**4 - 128*sin(epsilon_2)**4*sin(theta_1)**2*sin(theta_2)**2 + 128*sin(epsilon_2)**2*sin(theta_1)**4*sin(theta_2)**4 - 128*sin(epsilon_2)**2*sin(theta_1)**4*sin(theta_2)**2 - 128*sin(epsilon_2)**2*sin(theta_1)**2*sin(theta_2)**4 + 128*sin(epsilon_2)**2*sin(theta_1)**2*sin(theta_2)**2 - 32*sin(theta_1)**4*sin(theta_2)**4 + 32*sin(theta_1)**4*sin(theta_2)**2 - 8*sin(theta_1)**4 + 32*sin(theta_1)**2*sin(theta_2)**4 - 32*sin(theta_1)**2*sin(theta_2)**2 + 8*sin(theta_1)**2 - 2)*sin(theta_0)**2"
      ]
     },
     "metadata": {},
     "output_type": "display_data"
    },
    {
     "data": {
      "text/latex": [
       "$\\displaystyle \\left(128 \\sin^{4}{\\left(\\epsilon_{2} \\right)} \\sin^{4}{\\left(\\theta_{1} \\right)} \\sin^{4}{\\left(\\theta_{2} \\right)} - 128 \\sin^{4}{\\left(\\epsilon_{2} \\right)} \\sin^{4}{\\left(\\theta_{1} \\right)} \\sin^{2}{\\left(\\theta_{2} \\right)} - 128 \\sin^{4}{\\left(\\epsilon_{2} \\right)} \\sin^{2}{\\left(\\theta_{1} \\right)} \\sin^{4}{\\left(\\theta_{2} \\right)} + 128 \\sin^{4}{\\left(\\epsilon_{2} \\right)} \\sin^{2}{\\left(\\theta_{1} \\right)} \\sin^{2}{\\left(\\theta_{2} \\right)} - 128 \\sin^{2}{\\left(\\epsilon_{2} \\right)} \\sin^{4}{\\left(\\theta_{1} \\right)} \\sin^{4}{\\left(\\theta_{2} \\right)} + 128 \\sin^{2}{\\left(\\epsilon_{2} \\right)} \\sin^{4}{\\left(\\theta_{1} \\right)} \\sin^{2}{\\left(\\theta_{2} \\right)} + 128 \\sin^{2}{\\left(\\epsilon_{2} \\right)} \\sin^{2}{\\left(\\theta_{1} \\right)} \\sin^{4}{\\left(\\theta_{2} \\right)} - 128 \\sin^{2}{\\left(\\epsilon_{2} \\right)} \\sin^{2}{\\left(\\theta_{1} \\right)} \\sin^{2}{\\left(\\theta_{2} \\right)} + 32 \\sin^{4}{\\left(\\theta_{1} \\right)} \\sin^{4}{\\left(\\theta_{2} \\right)} - 32 \\sin^{4}{\\left(\\theta_{1} \\right)} \\sin^{2}{\\left(\\theta_{2} \\right)} + 8 \\sin^{4}{\\left(\\theta_{1} \\right)} - 32 \\sin^{2}{\\left(\\theta_{1} \\right)} \\sin^{4}{\\left(\\theta_{2} \\right)} + 32 \\sin^{2}{\\left(\\theta_{1} \\right)} \\sin^{2}{\\left(\\theta_{2} \\right)} - 8 \\sin^{2}{\\left(\\theta_{1} \\right)} + 2\\right) \\sin^{4}{\\left(\\theta_{0} \\right)}$"
      ],
      "text/plain": [
       "(128*sin(epsilon_2)**4*sin(theta_1)**4*sin(theta_2)**4 - 128*sin(epsilon_2)**4*sin(theta_1)**4*sin(theta_2)**2 - 128*sin(epsilon_2)**4*sin(theta_1)**2*sin(theta_2)**4 + 128*sin(epsilon_2)**4*sin(theta_1)**2*sin(theta_2)**2 - 128*sin(epsilon_2)**2*sin(theta_1)**4*sin(theta_2)**4 + 128*sin(epsilon_2)**2*sin(theta_1)**4*sin(theta_2)**2 + 128*sin(epsilon_2)**2*sin(theta_1)**2*sin(theta_2)**4 - 128*sin(epsilon_2)**2*sin(theta_1)**2*sin(theta_2)**2 + 32*sin(theta_1)**4*sin(theta_2)**4 - 32*sin(theta_1)**4*sin(theta_2)**2 + 8*sin(theta_1)**4 - 32*sin(theta_1)**2*sin(theta_2)**4 + 32*sin(theta_1)**2*sin(theta_2)**2 - 8*sin(theta_1)**2 + 2)*sin(theta_0)**4"
      ]
     },
     "metadata": {},
     "output_type": "display_data"
    },
    {
     "data": {
      "text/latex": [
       "$\\displaystyle - 8 \\sin^{2}{\\left(\\theta_{1} \\right)} \\sin^{4}{\\left(\\theta_{2} \\right)}$"
      ],
      "text/plain": [
       "-8*sin(theta_1)**2*sin(theta_2)**4"
      ]
     },
     "metadata": {},
     "output_type": "display_data"
    },
    {
     "data": {
      "text/latex": [
       "$\\displaystyle - 8 \\sin^{4}{\\left(\\theta_{1} \\right)} \\sin^{2}{\\left(\\theta_{2} \\right)}$"
      ],
      "text/plain": [
       "-8*sin(theta_1)**4*sin(theta_2)**2"
      ]
     },
     "metadata": {},
     "output_type": "display_data"
    },
    {
     "data": {
      "text/latex": [
       "$\\displaystyle 8 \\sin^{2}{\\left(\\theta_{1} \\right)} \\sin^{2}{\\left(\\theta_{2} \\right)}$"
      ],
      "text/plain": [
       "8*sin(theta_1)**2*sin(theta_2)**2"
      ]
     },
     "metadata": {},
     "output_type": "display_data"
    },
    {
     "data": {
      "text/latex": [
       "$\\displaystyle 8 \\sin^{4}{\\left(\\theta_{1} \\right)} \\sin^{4}{\\left(\\theta_{2} \\right)}$"
      ],
      "text/plain": [
       "8*sin(theta_1)**4*sin(theta_2)**4"
      ]
     },
     "metadata": {},
     "output_type": "display_data"
    },
    {
     "data": {
      "text/latex": [
       "$\\displaystyle - 32 \\sin^{2}{\\left(\\epsilon_{2} \\right)} \\sin^{2}{\\left(\\theta_{1} \\right)} \\sin^{2}{\\left(\\theta_{2} \\right)}$"
      ],
      "text/plain": [
       "-32*sin(epsilon_2)**2*sin(theta_1)**2*sin(theta_2)**2"
      ]
     },
     "metadata": {},
     "output_type": "display_data"
    },
    {
     "data": {
      "text/latex": [
       "$\\displaystyle - 32 \\sin^{2}{\\left(\\epsilon_{2} \\right)} \\sin^{4}{\\left(\\theta_{1} \\right)} \\sin^{4}{\\left(\\theta_{2} \\right)}$"
      ],
      "text/plain": [
       "-32*sin(epsilon_2)**2*sin(theta_1)**4*sin(theta_2)**4"
      ]
     },
     "metadata": {},
     "output_type": "display_data"
    },
    {
     "data": {
      "text/latex": [
       "$\\displaystyle - 32 \\sin^{4}{\\left(\\epsilon_{2} \\right)} \\sin^{2}{\\left(\\theta_{1} \\right)} \\sin^{4}{\\left(\\theta_{2} \\right)}$"
      ],
      "text/plain": [
       "-32*sin(epsilon_2)**4*sin(theta_1)**2*sin(theta_2)**4"
      ]
     },
     "metadata": {},
     "output_type": "display_data"
    },
    {
     "data": {
      "text/latex": [
       "$\\displaystyle - 32 \\sin^{4}{\\left(\\epsilon_{2} \\right)} \\sin^{4}{\\left(\\theta_{1} \\right)} \\sin^{2}{\\left(\\theta_{2} \\right)}$"
      ],
      "text/plain": [
       "-32*sin(epsilon_2)**4*sin(theta_1)**4*sin(theta_2)**2"
      ]
     },
     "metadata": {},
     "output_type": "display_data"
    },
    {
     "data": {
      "text/latex": [
       "$\\displaystyle 32 \\sin^{2}{\\left(\\epsilon_{2} \\right)} \\sin^{2}{\\left(\\theta_{1} \\right)} \\sin^{4}{\\left(\\theta_{2} \\right)}$"
      ],
      "text/plain": [
       "32*sin(epsilon_2)**2*sin(theta_1)**2*sin(theta_2)**4"
      ]
     },
     "metadata": {},
     "output_type": "display_data"
    },
    {
     "data": {
      "text/latex": [
       "$\\displaystyle 32 \\sin^{2}{\\left(\\epsilon_{2} \\right)} \\sin^{4}{\\left(\\theta_{1} \\right)} \\sin^{2}{\\left(\\theta_{2} \\right)}$"
      ],
      "text/plain": [
       "32*sin(epsilon_2)**2*sin(theta_1)**4*sin(theta_2)**2"
      ]
     },
     "metadata": {},
     "output_type": "display_data"
    },
    {
     "data": {
      "text/latex": [
       "$\\displaystyle 32 \\sin^{4}{\\left(\\epsilon_{2} \\right)} \\sin^{2}{\\left(\\theta_{1} \\right)} \\sin^{2}{\\left(\\theta_{2} \\right)}$"
      ],
      "text/plain": [
       "32*sin(epsilon_2)**4*sin(theta_1)**2*sin(theta_2)**2"
      ]
     },
     "metadata": {},
     "output_type": "display_data"
    },
    {
     "data": {
      "text/latex": [
       "$\\displaystyle 32 \\sin^{4}{\\left(\\epsilon_{2} \\right)} \\sin^{4}{\\left(\\theta_{1} \\right)} \\sin^{4}{\\left(\\theta_{2} \\right)}$"
      ],
      "text/plain": [
       "32*sin(epsilon_2)**4*sin(theta_1)**4*sin(theta_2)**4"
      ]
     },
     "metadata": {},
     "output_type": "display_data"
    }
   ],
   "source": [
    "expr_theta0 = collect(expand(TR6(expand(TR11(purity1)))), sin(t[0])).args\n",
    "\n",
    "for elem in expr_theta0:\n",
    "    display(elem)\n",
    "\n",
    "sin_2_theta0 = expr_theta0[3]\n",
    "sin_4_theta0 = expr_theta0[4]\n",
    "\n",
    "constant_theta0 = sum(expr_theta0[:3] + expr_theta0[5:])"
   ]
  },
  {
   "cell_type": "code",
   "execution_count": 287,
   "id": "c68e8e04",
   "metadata": {},
   "outputs": [],
   "source": [
    "coef_list = []\n",
    "constant_list = []\n",
    "\n",
    "for i in range(100):\n",
    "    np.random.seed(i)\n",
    "\n",
    "    theta0, theta1, theta2, epsilon1, epsilon2 = np.random.uniform(0, 2*np.pi, 5)\n",
    "\n",
    "    coef_2_theta0 = sin_2_theta0.subs([(t[0], theta0), \n",
    "              (t[1], theta1), \n",
    "              (t[2], theta2), \n",
    "              (e[1], epsilon1), \n",
    "              (e[2], epsilon2)])/sin(theta0)**2\n",
    "\n",
    "    coef_4_theta0 = sin_4_theta0.subs([(t[0], theta0), \n",
    "              (t[1], theta1), \n",
    "              (t[2], theta2), \n",
    "              (e[1], epsilon1), \n",
    "              (e[2], epsilon2)])/sin(theta0)**4\n",
    "\n",
    "    constant_val = constant_theta0.subs([(t[0], theta0), \n",
    "              (t[1], theta1), \n",
    "              (t[2], theta2), \n",
    "              (e[1], epsilon1), \n",
    "              (e[2], epsilon2)])\n",
    "    \n",
    "    coef_list.append(coef_4_theta0)\n",
    "    constant_list.append(constant_val)\n",
    "\n",
    "    aae(coef_2_theta0, -coef_4_theta0)\n",
    "    assert coef_4_theta0 >= 0, 'Coef 4 not positive'\n",
    "    assert constant_val>= 0, 'Constant not positive'"
   ]
  },
  {
   "cell_type": "code",
   "execution_count": 288,
   "id": "46939a3e",
   "metadata": {},
   "outputs": [
    {
     "data": {
      "text/latex": [
       "$\\displaystyle 0.0253684585318783$"
      ],
      "text/plain": [
       "0.0253684585318783"
      ]
     },
     "execution_count": 288,
     "metadata": {},
     "output_type": "execute_result"
    }
   ],
   "source": [
    "min(coef_list)"
   ]
  },
  {
   "cell_type": "code",
   "execution_count": 289,
   "id": "93aa2a62",
   "metadata": {},
   "outputs": [
    {
     "data": {
      "text/latex": [
       "$\\displaystyle 1.99889050015722$"
      ],
      "text/plain": [
       "1.99889050015722"
      ]
     },
     "execution_count": 289,
     "metadata": {},
     "output_type": "execute_result"
    }
   ],
   "source": [
    "max(coef_list)"
   ]
  },
  {
   "cell_type": "code",
   "execution_count": 290,
   "id": "76e09f65",
   "metadata": {},
   "outputs": [
    {
     "data": {
      "text/latex": [
       "$\\displaystyle 0.50634211463297$"
      ],
      "text/plain": [
       "0.506342114632970"
      ]
     },
     "execution_count": 290,
     "metadata": {},
     "output_type": "execute_result"
    }
   ],
   "source": [
    "min(constant_list)"
   ]
  },
  {
   "cell_type": "code",
   "execution_count": 291,
   "id": "c6815ad4",
   "metadata": {},
   "outputs": [
    {
     "data": {
      "text/latex": [
       "$\\displaystyle 0.999722625039304$"
      ],
      "text/plain": [
       "0.999722625039304"
      ]
     },
     "execution_count": 291,
     "metadata": {},
     "output_type": "execute_result"
    }
   ],
   "source": [
    "max(constant_list)"
   ]
  },
  {
   "cell_type": "code",
   "execution_count": 312,
   "id": "c0d93023",
   "metadata": {},
   "outputs": [
    {
     "data": {
      "text/latex": [
       "$\\displaystyle 4$"
      ],
      "text/plain": [
       "4"
      ]
     },
     "execution_count": 312,
     "metadata": {},
     "output_type": "execute_result"
    }
   ],
   "source": [
    "alpha0 = sin_4_theta0 / sin(t[0])**4\n",
    "beta0 = constant_theta0\n",
    "\n",
    "simplify((alpha0 - 2) / (beta0 - 1))"
   ]
  },
  {
   "cell_type": "markdown",
   "id": "609f0d14",
   "metadata": {},
   "source": [
    "We can write the purity in terms of the variable $\\sin(\\theta_0)$ as\n",
    "\n",
    "$$\\begin{align}\\mu(\\theta_0) &= \\alpha_0 sin^4(\\theta_0) - \\alpha_0 sin^2(\\theta_0) + \\beta_0 \\\\ &= \\alpha_0 \\sin^2(\\theta_0) (\\sin^2(\\theta_0) - 1) + \\beta_0 \\\\ &= -\\alpha_0 (\\sin(\\theta_0)\\cos(\\theta_0)^2 + \\beta_0 \\\\ &= -\\frac{\\alpha_0}{4} \\sin^2(2\\theta_0) + \\beta_0 \\end{align}$$\n",
    "\n",
    "\n",
    "\n",
    "where,\n",
    "\n",
    "- $0 \\leq \\alpha_0 \\leq 2$\n",
    "- $\\frac{1}{2} \\leq \\beta_0 \\leq 1$\n",
    "\n",
    "The coefficients $\\alpha_0$ and $\\beta_0$ satisty the relationship\n",
    "\n",
    "$$\\frac{\\alpha_0 - 2}{\\beta_0-1} = 4$$\n",
    "\n",
    "This relationship assures that $0.5 \\leq \\mu \\leq 1$, as mixed state should.\n",
    "\n",
    "Rearranging and substituing into our purity expression, we have\n",
    "\n",
    "$$\\begin{align}\\mu(\\theta_0) &= -\\frac{a_0}{4}\\sin^2(2\\theta_0) + \\frac{\\alpha_0+2}{4} \\\\  &= \\frac{1}{2} + \\frac{\\alpha_0}{4} \\cos^2(\\theta_0) \\end{align}$$"
   ]
  },
  {
   "cell_type": "code",
   "execution_count": 403,
   "id": "af7e3682",
   "metadata": {},
   "outputs": [],
   "source": [
    "expr_theta1 = collect(alpha0, sin(t[1])).args\n",
    "\n",
    "constant_theta1 = expr_theta1[0]\n",
    "sin_2_theta1 = expr_theta1[1]\n",
    "sin_4_theta1 = expr_theta1[2]\n",
    "\n",
    "alpha1 = sin_4_theta1 / sin(t[1])**4"
   ]
  },
  {
   "cell_type": "markdown",
   "id": "822dd5e2",
   "metadata": {},
   "source": [
    "We can further expand the coefficients $\\alpha_0$ into its component series.\n",
    "\n",
    "$$\\alpha_0 = \\alpha_1 \\sin^4(\\theta_1) - \\alpha_1 \\sin^2(\\theta_1) + 2$$\n",
    "\n",
    "where $0 \\leq \\alpha_1 \\leq 8$"
   ]
  },
  {
   "cell_type": "code",
   "execution_count": 394,
   "id": "80161794",
   "metadata": {},
   "outputs": [],
   "source": [
    "expr_theta2 = collect(alpha1, sin(t[2])).args\n",
    "\n",
    "constant_theta2 = expr_theta2[0]\n",
    "sin_2_theta2 = expr_theta2[1]\n",
    "sin_4_theta2 = expr_theta2[2]\n",
    "\n",
    "alpha2 = sin_4_theta2/ sin(t[2])**4"
   ]
  },
  {
   "cell_type": "markdown",
   "id": "f69b22fb",
   "metadata": {},
   "source": [
    "Similarly, we can write $\\alpha_1$ as series of $\\theta_2$ and $\\epsilon_2$\n",
    "\n",
    "$$\\alpha_1 = \\alpha_2\\sin^4(\\theta_2) - \\alpha_2 \\sin^2(\\theta_2) + 8$$\n",
    "\n",
    "where $0 \\leq \\alpha_2 \\leq 32$"
   ]
  },
  {
   "cell_type": "markdown",
   "id": "d76a611f",
   "metadata": {},
   "source": [
    "And finally, we decompose $\\alpha_2$\n",
    "\n",
    "$$\\alpha_2 = 128 \\sin^4(\\epsilon_2) - 128 \\sin^2(\\epsilon_2) + 32$$"
   ]
  },
  {
   "cell_type": "markdown",
   "id": "19998ed8",
   "metadata": {},
   "source": [
    "To summarize\n",
    "\n",
    "#### Purity Expression\n",
    "\n",
    "$$\\mu(\\theta_0) =  \\alpha_0 \\sin^4(\\theta_0) - \\alpha_0 \\sin^2(\\theta_0) + \\frac{1}{2} + \\frac{\\alpha_0}{4}$$\n",
    "\n",
    "#### Coefficients Expression\n",
    "\n",
    "$$\\alpha_0 = \\alpha_1 \\sin^4(\\theta_1) - \\alpha_1 \\sin^2(\\theta_1) + 2$$\n",
    "\n",
    "$$\\alpha_1 = \\alpha_2\\sin^4(\\theta_2) - \\alpha_2 \\sin^2(\\theta_2) + 8$$\n",
    "\n",
    "$$\\alpha_2 = 128 \\sin^4(\\epsilon_2) - 128 \\sin^2(\\epsilon_2) + 32$$"
   ]
  },
  {
   "cell_type": "code",
   "execution_count": 417,
   "id": "804edf6f",
   "metadata": {},
   "outputs": [],
   "source": [
    "for i in range(10_000):\n",
    "\n",
    "    theta0, theta1, theta2, epsilon1, epsilon2 = np.random.uniform(0, 2*np.pi, 5)\n",
    "\n",
    "    circ = QuantumCircuit(3)\n",
    "    circ.ry(2*theta0, 0)\n",
    "    circ.cx(0, 1)\n",
    "\n",
    "    circ.rz(2*epsilon1, 1) # Rz1\n",
    "    circ.ry(2*theta1, 1) # Ry1\n",
    "\n",
    "    circ.ry(2*theta2, 2) # Ry2\n",
    "    circ.rz(2*epsilon2, 2) # Rz2\n",
    "\n",
    "    circ.cx(1, 2)\n",
    "\n",
    "    rho = DensityMatrix(circ.reverse_bits()).data\n",
    "    traced_qubit = 1\n",
    "\n",
    "    dm = one_qubit_partial_trace(rho, traced_qubit)\n",
    "\n",
    "    mu_actual = dm.purity()\n",
    "\n",
    "    alpha2 = 128*np.sin(epsilon2)**4 - 128*np.sin(epsilon2)**2 + 32\n",
    "    alpha1 = alpha2*np.sin(theta2)**4 - alpha2*np.sin(theta2)**2 + 8\n",
    "    alpha0 = alpha1*np.sin(theta1)**4 - alpha1*np.sin(theta1)**2 + 2\n",
    "    mu_test = alpha0*np.sin(theta0)**4 - alpha0*np.sin(theta0)**2 + 1/2 + alpha0/4\n",
    "\n",
    "    aae(mu_actual, mu_test)"
   ]
  },
  {
   "cell_type": "markdown",
   "id": "05c02cea",
   "metadata": {},
   "source": [
    "#### 3. Subsystem $\\rho_{AB}$"
   ]
  },
  {
   "cell_type": "code",
   "execution_count": 472,
   "id": "38eb541f",
   "metadata": {},
   "outputs": [
    {
     "data": {
      "text/latex": [
       "$\\displaystyle \\sin^{4}{\\left(\\theta_{0} \\right)} \\sin^{4}{\\left(\\theta_{1} \\right)} + 8 \\sin^{4}{\\left(\\theta_{0} \\right)} \\sin^{2}{\\left(\\theta_{1} \\right)} \\sin^{2}{\\left(\\theta_{2} \\right)} \\cos^{2}{\\left(2 \\epsilon_{2} \\right)} \\cos^{2}{\\left(\\theta_{1} \\right)} \\cos^{2}{\\left(\\theta_{2} \\right)} + \\sin^{4}{\\left(\\theta_{0} \\right)} \\cos^{4}{\\left(\\theta_{1} \\right)} + 8 \\sin^{2}{\\left(\\theta_{0} \\right)} \\sin^{4}{\\left(\\theta_{1} \\right)} \\sin^{2}{\\left(\\theta_{2} \\right)} \\cos^{2}{\\left(2 \\epsilon_{2} \\right)} \\cos^{2}{\\left(\\theta_{0} \\right)} \\cos^{2}{\\left(\\theta_{2} \\right)} + 4 \\sin^{2}{\\left(\\theta_{0} \\right)} \\sin^{2}{\\left(\\theta_{1} \\right)} \\cos^{2}{\\left(\\theta_{0} \\right)} \\cos^{2}{\\left(\\theta_{1} \\right)} + 8 \\sin^{2}{\\left(\\theta_{0} \\right)} \\sin^{2}{\\left(\\theta_{2} \\right)} \\cos^{2}{\\left(2 \\epsilon_{2} \\right)} \\cos^{2}{\\left(\\theta_{0} \\right)} \\cos^{4}{\\left(\\theta_{1} \\right)} \\cos^{2}{\\left(\\theta_{2} \\right)} + \\sin^{4}{\\left(\\theta_{1} \\right)} \\cos^{4}{\\left(\\theta_{0} \\right)} + 8 \\sin^{2}{\\left(\\theta_{1} \\right)} \\sin^{2}{\\left(\\theta_{2} \\right)} \\cos^{2}{\\left(2 \\epsilon_{2} \\right)} \\cos^{4}{\\left(\\theta_{0} \\right)} \\cos^{2}{\\left(\\theta_{1} \\right)} \\cos^{2}{\\left(\\theta_{2} \\right)} + \\cos^{4}{\\left(\\theta_{0} \\right)} \\cos^{4}{\\left(\\theta_{1} \\right)}$"
      ],
      "text/plain": [
       "sin(theta_0)**4*sin(theta_1)**4 + 8*sin(theta_0)**4*sin(theta_1)**2*sin(theta_2)**2*cos(2*epsilon_2)**2*cos(theta_1)**2*cos(theta_2)**2 + sin(theta_0)**4*cos(theta_1)**4 + 8*sin(theta_0)**2*sin(theta_1)**4*sin(theta_2)**2*cos(2*epsilon_2)**2*cos(theta_0)**2*cos(theta_2)**2 + 4*sin(theta_0)**2*sin(theta_1)**2*cos(theta_0)**2*cos(theta_1)**2 + 8*sin(theta_0)**2*sin(theta_2)**2*cos(2*epsilon_2)**2*cos(theta_0)**2*cos(theta_1)**4*cos(theta_2)**2 + sin(theta_1)**4*cos(theta_0)**4 + 8*sin(theta_1)**2*sin(theta_2)**2*cos(2*epsilon_2)**2*cos(theta_0)**4*cos(theta_1)**2*cos(theta_2)**2 + cos(theta_0)**4*cos(theta_1)**4"
      ]
     },
     "execution_count": 472,
     "metadata": {},
     "output_type": "execute_result"
    }
   ],
   "source": [
    "rho_2 = one_qubit_partial_trace_sym(rho, 2)\n",
    "\n",
    "purity2 = simplify(trace_sym(rho_2))\n",
    "\n",
    "purity2"
   ]
  },
  {
   "cell_type": "code",
   "execution_count": 476,
   "id": "d29fc433",
   "metadata": {},
   "outputs": [
    {
     "data": {
      "text/plain": [
       "{epsilon_2, theta_0, theta_1, theta_2}"
      ]
     },
     "execution_count": 476,
     "metadata": {},
     "output_type": "execute_result"
    }
   ],
   "source": [
    "purity2.free_symbols"
   ]
  },
  {
   "cell_type": "markdown",
   "id": "128692d1",
   "metadata": {},
   "source": [
    "If we look at all the parameters in the expression, we will see that $\\epsilon_1$ is missing. The confirms our observation that $\\epsilon_1$ remains constant from above."
   ]
  },
  {
   "cell_type": "markdown",
   "id": "a51bc61d",
   "metadata": {},
   "source": [
    "Looking at the expression, we see that we have:\n",
    "- 4 terms with coefficient 1, each has 2 terms\n",
    "- 1 terms with coefficient 4, each has 4 terms\n",
    "- 4 terms with coefficient 8, each has 5 terms\n",
    "- 8 terms with coefficient ±32, each has 6 terms"
   ]
  },
  {
   "cell_type": "markdown",
   "id": "2f3b080b",
   "metadata": {},
   "source": [
    "First, we rewrite everything in terms of sine terms"
   ]
  },
  {
   "cell_type": "code",
   "execution_count": 542,
   "id": "1d70f46b",
   "metadata": {},
   "outputs": [],
   "source": [
    "expr_theta0 = collect(expand(TR6(expand(TR11(purity2)))), sin(t[0])).args"
   ]
  },
  {
   "cell_type": "code",
   "execution_count": 547,
   "id": "bf2745f3",
   "metadata": {},
   "outputs": [],
   "source": [
    "sin_2_theta0 = expr_theta0[3]\n",
    "sin_4_theta0 = expr_theta0[4]\n",
    "\n",
    "alpha0 = sin_4_theta0/sin(t[0])**4\n",
    "\n",
    "beta0 = sum(expr_theta0[:3] + expr_theta0[5:])"
   ]
  },
  {
   "cell_type": "markdown",
   "id": "827d14cf",
   "metadata": {},
   "source": [
    "Factor the $\\sin(\\theta_0)$ out of the series, we get the purity expression\n",
    "\n",
    "$$\\mu = \\alpha_0\\sin^4(\\theta_0) - \\alpha_0\\sin^2(\\theta_0) + \\beta_0$$"
   ]
  },
  {
   "cell_type": "markdown",
   "id": "4526d0e4",
   "metadata": {},
   "source": [
    "We now further factor $\\sin(\\theta_1)$ from $\\alpha_0$ and $\\beta_0$"
   ]
  },
  {
   "cell_type": "code",
   "execution_count": 585,
   "id": "daed831a",
   "metadata": {},
   "outputs": [],
   "source": [
    "expr_theta10 = collect(alpha0, sin(t[1])).args\n",
    "\n",
    "sin_2_theta10 = expr_theta10[3]\n",
    "sin_4_theta10 = expr_theta10[4]\n",
    "\n",
    "alpha1 = sin_4_theta10 / sin(t[1])**4\n",
    "gamma1 = sum(expr_theta10[:3] + expr_theta10[5:])\n",
    "\n",
    "expr_theta11 = collect(beta0, sin(t[1])).args\n",
    "\n",
    "sin_2_theta11 = expr_theta11[1]\n",
    "sin_4_theta11 = expr_theta11[2]\n",
    "\n",
    "beta1 = sin_4_theta11 / sin(t[1])**4\n",
    "beta1_contant = expr_theta11[0]"
   ]
  },
  {
   "cell_type": "markdown",
   "id": "f46e5dbf",
   "metadata": {},
   "source": [
    "We now have the expressions,\n",
    "\n",
    "$$\\alpha_0 = \\alpha_1\\sin^4(\\theta_1) - \\alpha_1\\sin^2(\\theta_1) + \\gamma_1$$\n",
    "\n",
    "$$\\beta_0 = \\beta_1 \\sin^4(\\theta_1) - \\beta_1\\sin^2(\\theta_1) + 1$$"
   ]
  },
  {
   "cell_type": "markdown",
   "id": "003cf5aa",
   "metadata": {},
   "source": [
    "It turns our that $\\gamma_1 = \\beta_1$, so we can reduce the expression to \n",
    "\n",
    "$$\\alpha_0 = \\alpha_1\\sin^4(\\theta_1) - \\alpha_1\\sin^2(\\theta_1) + \\beta_1$$\n",
    "\n",
    "$$\\beta_0 = \\beta_1 \\sin^4(\\theta_1) - \\beta_1\\sin^2(\\theta_1) + 1$$"
   ]
  },
  {
   "cell_type": "markdown",
   "id": "1a55b2f8",
   "metadata": {},
   "source": [
    "Rinse and repeat, now we factor out $\\sin(\\theta_2)$"
   ]
  },
  {
   "cell_type": "code",
   "execution_count": 586,
   "id": "8bf1fb9b",
   "metadata": {},
   "outputs": [],
   "source": [
    "expr_theta20 = collect(alpha1, sin(t[2])).args\n",
    "\n",
    "sin_2_theta20 = expr_theta20[1]\n",
    "sin_4_theta20 = expr_theta20[2]\n",
    "gamma2 = expr_theta20[0]\n",
    "\n",
    "alpha2 = sin_4_theta20 / sin(t[2])**4"
   ]
  },
  {
   "cell_type": "code",
   "execution_count": 590,
   "id": "4000c891",
   "metadata": {},
   "outputs": [
    {
     "data": {
      "text/latex": [
       "$\\displaystyle 8$"
      ],
      "text/plain": [
       "8"
      ]
     },
     "execution_count": 590,
     "metadata": {},
     "output_type": "execute_result"
    }
   ],
   "source": [
    "gamma2"
   ]
  },
  {
   "cell_type": "markdown",
   "id": "6c7305f9",
   "metadata": {},
   "source": [
    "$$\\alpha_1 = \\alpha_2\\sin^4(\\theta_2) - \\alpha_2\\sin^2(\\theta_2) + 8$$"
   ]
  },
  {
   "cell_type": "code",
   "execution_count": 601,
   "id": "8a389409",
   "metadata": {},
   "outputs": [],
   "source": [
    "expr_theta21 = collect(beta1, sin(t[2])).args\n",
    "\n",
    "beta2_contant = expr_theta21[0]\n",
    "sin_2_theta21 = expr_theta21[1]\n",
    "sin_4_theta21 = expr_theta21[2]\n",
    "\n",
    "beta2 = sin_4_theta21 / sin(t[2])**4"
   ]
  },
  {
   "cell_type": "code",
   "execution_count": 602,
   "id": "017f7a6e",
   "metadata": {},
   "outputs": [
    {
     "data": {
      "text/plain": [
       "(2,\n",
       " (-32*sin(epsilon_2)**4 + 32*sin(epsilon_2)**2 - 8)*sin(theta_2)**2,\n",
       " (32*sin(epsilon_2)**4 - 32*sin(epsilon_2)**2 + 8)*sin(theta_2)**4)"
      ]
     },
     "execution_count": 602,
     "metadata": {},
     "output_type": "execute_result"
    }
   ],
   "source": [
    "expr_theta21"
   ]
  },
  {
   "cell_type": "markdown",
   "id": "83ba5832",
   "metadata": {},
   "source": [
    "$$\\beta_1 = \\beta_2\\sin^4(\\theta_2) - \\beta_2\\sin^2(\\theta_2) + 2$$"
   ]
  },
  {
   "cell_type": "markdown",
   "id": "d65044fd",
   "metadata": {},
   "source": [
    "And for the last time"
   ]
  },
  {
   "cell_type": "code",
   "execution_count": 603,
   "id": "6540d2f0",
   "metadata": {},
   "outputs": [],
   "source": [
    "expr_epsilon20 = collect(alpha2, sin(e[2])).args"
   ]
  },
  {
   "cell_type": "markdown",
   "id": "c322280c",
   "metadata": {},
   "source": [
    "$$\\alpha_2 = 128\\sin^4(\\epsilon_2) - 128\\sin^2(\\epsilon_2) + 32$$"
   ]
  },
  {
   "cell_type": "code",
   "execution_count": 604,
   "id": "4d58ebeb",
   "metadata": {},
   "outputs": [
    {
     "data": {
      "text/plain": [
       "(8, -32*sin(epsilon_2)**2, 32*sin(epsilon_2)**4)"
      ]
     },
     "execution_count": 604,
     "metadata": {},
     "output_type": "execute_result"
    }
   ],
   "source": [
    "expr_epsilon21 = collect(beta2, sin(e[2])).args\n",
    "expr_epsilon21"
   ]
  },
  {
   "cell_type": "markdown",
   "id": "ac087050",
   "metadata": {},
   "source": [
    "$$\\beta_2 = 32\\sin^4(\\epsilon_2) - 32\\sin^2(\\epsilon_2) + 8$$"
   ]
  },
  {
   "cell_type": "markdown",
   "id": "dc1697ef",
   "metadata": {},
   "source": [
    "So finally, we gather allt he expression together, this time from the bottom up\n",
    "\n",
    "$$\\beta_2 = 32\\sin^4(\\epsilon_2) - 32\\sin^2(\\epsilon_2) + 8$$\n",
    "$$\\alpha_2 = 128\\sin^4(\\epsilon_2) - 128\\sin^2(\\epsilon_2) + 32$$\n",
    "\n",
    "$$\\beta_1 = \\beta_2\\sin^4(\\theta_2) - \\beta_2\\sin^2(\\theta_2) + 2$$\n",
    "$$\\alpha_1 = \\alpha_2\\sin^4(\\theta_2) - \\alpha_2\\sin^2(\\theta_2) + 8$$\n",
    "\n",
    "$$\\beta_0 = \\beta_1 \\sin^4(\\theta_1) - \\beta_1\\sin^2(\\theta_1) + 1$$\n",
    "$$\\alpha_0 = \\alpha_1\\sin^4(\\theta_1) - \\alpha_1\\sin^2(\\theta_1) + \\beta_1$$\n",
    "\n",
    "$$\\mu = \\alpha_0\\sin^4(\\theta_0) - \\alpha_0\\sin^2(\\theta_0) + \\beta_0$$"
   ]
  },
  {
   "cell_type": "markdown",
   "id": "8b22ee96",
   "metadata": {},
   "source": [
    "From the first two expression, we can see that $\\alpha_2 = 4\\beta_2$. Substitute that into the expression for $\\beta_1$, we again get $\\alpha_1 = 4\\beta_1$, and after this, we can't reduce anymore. So we have the final list of expression\n",
    "\n",
    "$$\\mu = \\alpha_0\\sin^4(\\theta_0) - \\alpha_0\\sin^2(\\theta_0) + \\beta_0$$\n",
    "\n",
    "$$\\alpha_0 = 4\\beta_1\\sin^4(\\theta_1) - 4\\beta_1\\sin^2(\\theta_1) + \\beta_1$$\n",
    "\n",
    "$$\\beta_0 = \\beta_1 \\sin^4(\\theta_1) - \\beta_1\\sin^2(\\theta_1) + 1$$\n",
    "$$\\beta_1 = \\beta_2\\sin^4(\\theta_2) - \\beta_2\\sin^2(\\theta_2) + 2$$\n",
    "$$\\beta_2 = 32\\sin^4(\\epsilon_2) - 32\\sin^2(\\epsilon_2) + 8$$\n",
    "\n",
    "\n",
    "\n"
   ]
  },
  {
   "cell_type": "code",
   "execution_count": 606,
   "id": "48e78c12",
   "metadata": {},
   "outputs": [],
   "source": [
    "for i in range(10_000):\n",
    "\n",
    "    theta0, theta1, theta2, epsilon1, epsilon2 = np.random.uniform(0, 2*np.pi, 5)\n",
    "\n",
    "    circ = QuantumCircuit(3)\n",
    "    circ.ry(2*theta0, 0)\n",
    "    circ.cx(0, 1)\n",
    "\n",
    "    circ.rz(2*epsilon1, 1) # Rz1\n",
    "    circ.ry(2*theta1, 1) # Ry1\n",
    "\n",
    "    circ.ry(2*theta2, 2) # Ry2\n",
    "    circ.rz(2*epsilon2, 2) # Rz2\n",
    "\n",
    "    circ.cx(1, 2)\n",
    "\n",
    "    rho = DensityMatrix(circ.reverse_bits()).data\n",
    "    traced_qubit = 2\n",
    "\n",
    "    dm = one_qubit_partial_trace(rho, traced_qubit)\n",
    "\n",
    "    mu_actual = dm.purity()\n",
    "\n",
    "    beta2 = 32*np.sin(epsilon2)**4 - 32*np.sin(epsilon2)**2 + 8\n",
    "    beta1 = beta2*np.sin(theta2)**4 - beta2*np.sin(theta2)**2 + 2\n",
    "    beta0 = beta1*np.sin(theta1)**4 - beta1*np.sin(theta1)**2 + 1\n",
    "    alpha0 = 4*beta1*np.sin(theta1)**4 - 4*beta1*np.sin(theta1)**2 + beta1\n",
    "    mu_test = alpha0*np.sin(theta0)**4 - alpha0*np.sin(theta0)**2 + beta0\n",
    "\n",
    "    aae(mu_actual, mu_test)"
   ]
  },
  {
   "cell_type": "markdown",
   "id": "1bea270e",
   "metadata": {},
   "source": [
    "#### 1. $Tr[\\rho_{BC}^2]$"
   ]
  },
  {
   "cell_type": "markdown",
   "id": "4aef77ca",
   "metadata": {},
   "source": [
    "$$Tr[\\rho_{BC}^2] = 2\\sin^4(\\theta_0) - 2\\sin^2(\\theta_0) + 1$$"
   ]
  },
  {
   "cell_type": "markdown",
   "id": "04524a50",
   "metadata": {},
   "source": [
    "#### 2. $Tr[\\rho_{AC}^2]$"
   ]
  },
  {
   "cell_type": "markdown",
   "id": "6c1dd008",
   "metadata": {},
   "source": [
    "$$Tr[\\rho_{AC}^2] =  \\alpha_0 \\sin^4(\\theta_0) - \\alpha_0 \\sin^2(\\theta_0) + \\frac{1}{2} + \\frac{\\alpha_0}{4}$$\n",
    "\n",
    "$$\\alpha_0 = \\alpha_1 \\sin^4(\\theta_1) - \\alpha_1 \\sin^2(\\theta_1) + 2$$\n",
    "\n",
    "$$\\alpha_1 = \\alpha_2\\sin^4(\\theta_2) - \\alpha_2 \\sin^2(\\theta_2) + 8$$\n",
    "\n",
    "$$\\alpha_2 = 128 \\sin^4(\\epsilon_2) - 128 \\sin^2(\\epsilon_2) + 32$$"
   ]
  },
  {
   "cell_type": "markdown",
   "id": "3d5b4270",
   "metadata": {},
   "source": [
    "#### 3. $Tr[\\rho_{AB}^2]$"
   ]
  },
  {
   "cell_type": "markdown",
   "id": "d827d523",
   "metadata": {},
   "source": [
    "$$Tr[\\rho_{AB}^2] = \\alpha_0\\sin^4(\\theta_0) - \\alpha_0\\sin^2(\\theta_0) + \\beta_0$$\n",
    "\n",
    "$$\\alpha_0 = 4\\beta_1\\sin^4(\\theta_1) - 4\\beta_1\\sin^2(\\theta_1) + \\beta_1$$\n",
    "\n",
    "$$\\beta_0 = \\beta_1 \\sin^4(\\theta_1) - \\beta_1\\sin^2(\\theta_1) + 1$$\n",
    "\n",
    "$$\\beta_1 = \\beta_2\\sin^4(\\theta_2) - \\beta_2\\sin^2(\\theta_2) + 2$$\n",
    "\n",
    "$$\\beta_2 = 32\\sin^4(\\epsilon_2) - 32\\sin^2(\\epsilon_2) + 8$$"
   ]
  }
 ],
 "metadata": {
  "kernelspec": {
   "display_name": "Python 3",
   "language": "python",
   "name": "python3"
  },
  "language_info": {
   "codemirror_mode": {
    "name": "ipython",
    "version": 3
   },
   "file_extension": ".py",
   "mimetype": "text/x-python",
   "name": "python",
   "nbconvert_exporter": "python",
   "pygments_lexer": "ipython3",
   "version": "3.8.3"
  }
 },
 "nbformat": 4,
 "nbformat_minor": 5
}
