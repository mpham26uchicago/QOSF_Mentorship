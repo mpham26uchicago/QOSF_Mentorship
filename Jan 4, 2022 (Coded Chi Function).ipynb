{
 "cells": [
  {
   "cell_type": "code",
   "execution_count": 124,
   "id": "656c3924",
   "metadata": {},
   "outputs": [],
   "source": [
    "import numpy as np\n",
    "from sympy import *\n",
    "\n",
    "from qiskit import *\n",
    "from qiskit.quantum_info import *\n",
    "\n",
    "from qiskit.circuit.library import *\n",
    "\n",
    "from numpy.testing import assert_almost_equal as aae"
   ]
  },
  {
   "cell_type": "code",
   "execution_count": 125,
   "id": "dcf954ea",
   "metadata": {},
   "outputs": [],
   "source": [
    "mat_close = lambda A, B: np.all(np.isclose(A, B))"
   ]
  },
  {
   "cell_type": "markdown",
   "id": "4b8ae991",
   "metadata": {},
   "source": [
    "The $\\gamma$ map is defined as $\\gamma: u \\mapsto u\\sigma_y^{\\otimes 2} u^T \\sigma_y^{\\otimes 2}$. Given a matrix $u \\in SU(4)$, I found some pattern in the relationship between the trace of $\\gamma(u)$ and the number of CNOT it uses. More specifically, let $\\alpha = Tr(\\gamma(u))$.\n",
    "\n",
    "- $|\\alpha| = 4 \\implies$ 0 CNOT\n",
    "\n",
    "- $|\\alpha| = 0 \\implies$ 1 CNOT\n",
    "\n",
    "- $|\\alpha| \\text{ is real} \\implies$ 2 CNOT\n",
    "\n",
    "- $|\\alpha| \\text{ is complex} \\implies$ 3 CNOT\n",
    "\n",
    "Whether this implication is always true is in question. It's kinda late so I will probably prove this tomorrow."
   ]
  },
  {
   "cell_type": "code",
   "execution_count": 294,
   "id": "a9108d9a",
   "metadata": {},
   "outputs": [],
   "source": [
    "def to_su(u): # Convert a matrix in U(4) to SU(4)\n",
    "    u = u / np.sqrt(np.sqrt(np.linalg.det(u)))\n",
    "    \n",
    "    return u\n",
    "\n",
    "def gamma_map(u): # Perform the gamma map above\n",
    "    sigma_y = np.array([[0, -1j], \n",
    "                        [1j, 0]])\n",
    "    \n",
    "    return u@np.kron(sigma_y, sigma_y)@u.T@np.kron(sigma_y, sigma_y)\n",
    "\n",
    "def classification(u, output_trace = False):\n",
    "    \n",
    "    u = to_su(u)\n",
    "    \n",
    "    mat_trace = np.round(np.trace(gamma_map(u)), 14)\n",
    "    \n",
    "    if output_trace:\n",
    "        print(mat_trace)\n",
    "    \n",
    "    if (mat_trace == -4) or (mat_trace == 4):\n",
    "        return 0\n",
    "    elif mat_trace == 0:\n",
    "        return 1\n",
    "    elif np.isreal(mat_trace):\n",
    "        return 2\n",
    "    else:\n",
    "        return 3"
   ]
  },
  {
   "cell_type": "markdown",
   "id": "bdbd885b",
   "metadata": {},
   "source": [
    "I check the classification for CNOT as two qubit gate."
   ]
  },
  {
   "cell_type": "code",
   "execution_count": 286,
   "id": "6bd3b1bb",
   "metadata": {},
   "outputs": [],
   "source": [
    "cnot = np.array([[1, 0, 0, 0], \n",
    "                 [0, 1, 0, 0], \n",
    "                 [0, 0, 0, 1], \n",
    "                 [0, 0, 1, 0]])\n",
    "\n",
    "for i in range(1000):\n",
    "\n",
    "    MA = np.kron(random_unitary(2).data, random_unitary(2).data)\n",
    "    MB = np.kron(random_unitary(2).data, random_unitary(2).data)\n",
    "    MC = np.kron(random_unitary(2).data, random_unitary(2).data)\n",
    "    MD = np.kron(random_unitary(2).data, random_unitary(2).data)\n",
    "\n",
    "    M0 = MA\n",
    "    M1 = M0@cnot@MB\n",
    "    M2 = M1@cnot@MC\n",
    "    M3 = M2@cnot@MD\n",
    "\n",
    "    assert classification(M0) == 0, 'zero'\n",
    "    assert classification(M1) == 1, 'one'\n",
    "    assert classification(M2) == 2, 'two'\n",
    "    assert classification(M3) == 3, 'three'"
   ]
  },
  {
   "cell_type": "markdown",
   "id": "7c0e1d4c",
   "metadata": {},
   "source": [
    "I did a little bit more digging and I found that it also works for $iSWAP$ gate."
   ]
  },
  {
   "cell_type": "code",
   "execution_count": 300,
   "id": "81c73f90",
   "metadata": {},
   "outputs": [],
   "source": [
    "isw = iSwapGate().to_matrix()\n",
    "\n",
    "for i in range(1000):\n",
    "\n",
    "    MA = np.kron(random_unitary(2).data, random_unitary(2).data)\n",
    "    MB = np.kron(random_unitary(2).data, random_unitary(2).data)\n",
    "    MC = np.kron(random_unitary(2).data, random_unitary(2).data)\n",
    "    MD = np.kron(random_unitary(2).data, random_unitary(2).data)\n",
    "\n",
    "    M0 = MA\n",
    "    M1 = M0@isw@MB\n",
    "    M2 = M1@isw@MC\n",
    "    M3 = M2@isw@MD\n",
    "\n",
    "    assert classification(M0) == 0, 'zero'\n",
    "    assert classification(M1) == 1, 'one'\n",
    "    assert classification(M2) == 2, 'two'\n",
    "    assert classification(M3) == 3, 'three'"
   ]
  },
  {
   "cell_type": "markdown",
   "id": "85421369",
   "metadata": {},
   "source": [
    "I look at the $\\sqrt{iSWAP}$ as the native two qubit gates. Here, the classification changes a little. For 1 gate, the trace is 2. For 2 and 3, the trace is complex. This might have to do with the fact that two $\\sqrt{iSWAP}$ gate makes up a 79% of the SU(4) gate."
   ]
  },
  {
   "cell_type": "code",
   "execution_count": 320,
   "id": "42df4ce3",
   "metadata": {},
   "outputs": [
    {
     "ename": "AssertionError",
     "evalue": "one",
     "output_type": "error",
     "traceback": [
      "\u001b[0;31m---------------------------------------------------------------------------\u001b[0m",
      "\u001b[0;31mAssertionError\u001b[0m                            Traceback (most recent call last)",
      "\u001b[0;32m<ipython-input-320-9a4257d95db2>\u001b[0m in \u001b[0;36m<module>\u001b[0;34m\u001b[0m\n\u001b[1;32m     15\u001b[0m \u001b[0;34m\u001b[0m\u001b[0m\n\u001b[1;32m     16\u001b[0m \u001b[0;32massert\u001b[0m \u001b[0mclassification\u001b[0m\u001b[0;34m(\u001b[0m\u001b[0mM0\u001b[0m\u001b[0;34m)\u001b[0m \u001b[0;34m==\u001b[0m \u001b[0;36m0\u001b[0m\u001b[0;34m,\u001b[0m \u001b[0;34m'zero'\u001b[0m\u001b[0;34m\u001b[0m\u001b[0;34m\u001b[0m\u001b[0m\n\u001b[0;32m---> 17\u001b[0;31m \u001b[0;32massert\u001b[0m \u001b[0mclassification\u001b[0m\u001b[0;34m(\u001b[0m\u001b[0mM1\u001b[0m\u001b[0;34m)\u001b[0m \u001b[0;34m==\u001b[0m \u001b[0;36m1\u001b[0m\u001b[0;34m,\u001b[0m \u001b[0;34m'one'\u001b[0m\u001b[0;34m\u001b[0m\u001b[0;34m\u001b[0m\u001b[0m\n\u001b[0m\u001b[1;32m     18\u001b[0m \u001b[0;32massert\u001b[0m \u001b[0mclassification\u001b[0m\u001b[0;34m(\u001b[0m\u001b[0mM2\u001b[0m\u001b[0;34m)\u001b[0m \u001b[0;34m==\u001b[0m \u001b[0;36m2\u001b[0m\u001b[0;34m,\u001b[0m \u001b[0;34m'two'\u001b[0m\u001b[0;34m\u001b[0m\u001b[0;34m\u001b[0m\u001b[0m\n\u001b[1;32m     19\u001b[0m \u001b[0;32massert\u001b[0m \u001b[0mclassification\u001b[0m\u001b[0;34m(\u001b[0m\u001b[0mM3\u001b[0m\u001b[0;34m)\u001b[0m \u001b[0;34m==\u001b[0m \u001b[0;36m3\u001b[0m\u001b[0;34m,\u001b[0m \u001b[0;34m'three'\u001b[0m\u001b[0;34m\u001b[0m\u001b[0;34m\u001b[0m\u001b[0m\n",
      "\u001b[0;31mAssertionError\u001b[0m: one"
     ]
    }
   ],
   "source": [
    "sqisw = np.array([[1, 0, 0, 0],\n",
    "                  [0, 1/np.sqrt(2), 1j/np.sqrt(2), 0], \n",
    "                  [0, 1j/np.sqrt(2), 1/np.sqrt(2), 0], \n",
    "                  [0, 0, 0, 1]])\n",
    "\n",
    "MA = np.kron(random_unitary(2).data, random_unitary(2).data)\n",
    "MB = np.kron(random_unitary(2).data, random_unitary(2).data)\n",
    "MC = np.kron(random_unitary(2).data, random_unitary(2).data)\n",
    "MD = np.kron(random_unitary(2).data, random_unitary(2).data)\n",
    "\n",
    "M0 = MA\n",
    "M1 = M0@sqisw@MB\n",
    "M2 = M1@sqisw@MC\n",
    "M3 = M2@sqisw@MD\n",
    "\n",
    "assert classification(M0) == 0, 'zero'\n",
    "assert classification(M1) == 1, 'one'\n",
    "assert classification(M2) == 2, 'two'\n",
    "assert classification(M3) == 3, 'three'"
   ]
  }
 ],
 "metadata": {
  "kernelspec": {
   "display_name": "Python 3",
   "language": "python",
   "name": "python3"
  },
  "language_info": {
   "codemirror_mode": {
    "name": "ipython",
    "version": 3
   },
   "file_extension": ".py",
   "mimetype": "text/x-python",
   "name": "python",
   "nbconvert_exporter": "python",
   "pygments_lexer": "ipython3",
   "version": "3.8.3"
  }
 },
 "nbformat": 4,
 "nbformat_minor": 5
}
