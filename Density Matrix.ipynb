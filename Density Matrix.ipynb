{
 "cells": [
  {
   "cell_type": "code",
   "execution_count": 1,
   "id": "adaaaf0f",
   "metadata": {},
   "outputs": [],
   "source": [
    "from qiskit import *\n",
    "from qiskit.circuit.library import *\n",
    "from qiskit.quantum_info import *\n",
    "import numpy as np\n",
    "from scipy.linalg import *\n",
    "from sympy import *\n",
    "\n",
    "from functools import reduce\n",
    "\n",
    "import warnings\n",
    "warnings.filterwarnings(\"ignore\")\n",
    "\n",
    "import matplotlib.pyplot as plt\n",
    "from numpy.testing import assert_almost_equal as aae"
   ]
  },
  {
   "cell_type": "code",
   "execution_count": 2,
   "id": "aefdd770",
   "metadata": {},
   "outputs": [],
   "source": [
    "tensor = lambda matrix_list: reduce(np.kron, matrix_list)"
   ]
  },
  {
   "cell_type": "code",
   "execution_count": 3,
   "id": "ff504aac",
   "metadata": {},
   "outputs": [],
   "source": [
    "def one_qubit_partial_trace(rho: np.ndarray, traced_qubit: int) -> DensityMatrix:\n",
    "\n",
    "    dim = int(np.log2(len(rho)))\n",
    "    assert traced_qubit < dim, \"Traced qubit index out of range\"\n",
    "    \n",
    "    I = np.identity(2)\n",
    "    zero = np.array([[1], [0]])\n",
    "    one = np.array([[0], [1]])\n",
    "\n",
    "    # Create pre and post of partial trace\n",
    "    pre_zero = tensor([zero.T if i == traced_qubit else I for i in range(dim)])\n",
    "    post_zero = tensor([zero if i == traced_qubit else I for i in range(dim)])\n",
    "    pre_one = tensor([one.T if i == traced_qubit else I for i in range(dim)])\n",
    "    post_one = tensor([one if i == traced_qubit else I for i in range(dim)])\n",
    "\n",
    "    reduced_density_matrix = DensityMatrix(pre_zero@rho@post_zero + pre_one@rho@post_one)\n",
    "    \n",
    "    assert reduced_density_matrix.is_valid(), 'Reduced density operator is not valid'\n",
    "\n",
    "    return reduced_density_matrix\n",
    "\n",
    "def is_pure_state(rho: DensityMatrix):\n",
    "    if np.isclose(np.abs(rho.purity()), 1): \n",
    "        print(\"Pure State\")\n",
    "        return rho.to_statevector().data\n",
    "    else:\n",
    "        print(\"Mixed State\")\n",
    "        return None"
   ]
  },
  {
   "cell_type": "markdown",
   "id": "0ae9d352",
   "metadata": {},
   "source": [
    "### Two-Qubit State"
   ]
  },
  {
   "cell_type": "markdown",
   "id": "be5dc08c",
   "metadata": {},
   "source": [
    "We know that the canonical form for any two qubit states is \n",
    "\n",
    "$$|\\psi\\rangle = \\cos(\\theta)|00\\rangle + \\sin(\\theta)|11\\rangle$$\n",
    "\n",
    "This gives us the density matrix (abbreviating cosines and sines)\n",
    "\n",
    "$$\\rho_{AB} = |\\psi\\rangle\\langle\\psi| = c^2|00\\rangle\\langle 00|+ cs |00\\rangle \\langle 11| + cs |11\\rangle\\langle00| + s^2 |11\\rangle\\langle11|$$\n",
    "\n",
    "Taking the partial trace of the subsytem $B$, we get\n",
    "\n",
    "$$\\begin{align}\\rho_A = Tr_B [\\rho_{AB}] &= (I\\otimes \\langle0|)\\rho_{AB}(I\\otimes |0\\rangle) + (I\\otimes \\langle1|)\\rho_{AB}(I\\otimes |1\\rangle) \\\\ &= c^2|00\\rangle\\langle00| + s^2|11\\rangle\\langle11|\\end{align}$$\n",
    "\n",
    "This gives us an expression for purity\n",
    "\n",
    "$$\\begin{align}Tr[\\rho_A^2] &= \\cos^4(\\theta) + \\sin^4(\\theta) \\\\ &= \\frac{1}{4} \\cos(4\\theta) + \\frac{3}{4}\\end{align}$$\n",
    "\n",
    "Up to local unitary, we have\n",
    "\n",
    "$$|\\psi'\\rangle = \\cos(\\theta)|\\alpha\\beta\\rangle + \\sin(\\theta)|\\alpha_{\\perp} \\beta_{\\perp}\\rangle $$\n",
    "\n",
    "Recall that the partial trace and purity calculation is independent of subsystem basis. So now, since our state $|\\psi\\rangle$ and $|\\psi'\\rangle$ are equivalent up to local unitary, it should have the same partial trace and purity."
   ]
  },
  {
   "cell_type": "markdown",
   "id": "bfcd542d",
   "metadata": {},
   "source": [
    "Our canonical form is parameterized by an angle $\\theta$ and has a period of $2\\pi$. Our purity expression on the other hand, has a period of $\\frac{\\pi}{2}$. One would think that $|\\psi(\\theta)\\rangle \\stackrel{LU}{\\equiv}|\\psi(\\theta')\\rangle$ would implies $\\theta = \\theta'$. This is true in certain cases, for example, $\\theta' = \\theta + \\frac{\\pi n}{2}$. This is related to the fact that a Pauli $Y$ can commute through a CX gate into Pauli $Z$ and Pauli $X$. However, when $\\theta' = -\\theta + \\frac{\\pi n}{2}$, the equivalence relation does not hold. For each purity value, there are up to 8 possibles angle values on the interval of $[-\\pi, \\pi]$."
   ]
  },
  {
   "cell_type": "code",
   "execution_count": 4,
   "id": "cf4998a7",
   "metadata": {},
   "outputs": [
    {
     "data": {
      "text/plain": [
       "Text(0, 0.5, 'Purity')"
      ]
     },
     "execution_count": 4,
     "metadata": {},
     "output_type": "execute_result"
    },
    {
     "data": {
      "image/png": "[encoded data removed]",
      "text/plain": [
       "<Figure size 432x288 with 1 Axes>"
      ]
     },
     "metadata": {
      "needs_background": "light"
     },
     "output_type": "display_data"
    }
   ],
   "source": [
    "mu_list = []\n",
    "\n",
    "for theta in np.linspace(-np.pi, np.pi, 1000):\n",
    "\n",
    "    circ = QuantumCircuit(2)\n",
    "    circ.ry(2*theta, 0)\n",
    "    circ.cx(0, 1)\n",
    "    circ.unitary(random_unitary(2), 0)\n",
    "    circ.unitary(random_unitary(2), 1)\n",
    "\n",
    "    rho = DensityMatrix(circ.reverse_bits()).data\n",
    "    traced_qubit = 0\n",
    "\n",
    "    dm = one_qubit_partial_trace(rho, traced_qubit)\n",
    "\n",
    "    mu = dm.purity()\n",
    "    mu_list.append(mu)\n",
    "\n",
    "plt.plot(np.linspace(-np.pi, np.pi, 1000), mu_list)\n",
    "plt.xlabel('Angle')\n",
    "plt.ylabel('Purity')"
   ]
  },
  {
   "cell_type": "markdown",
   "id": "29ecd00e",
   "metadata": {},
   "source": [
    "### Three Qubit"
   ]
  },
  {
   "cell_type": "markdown",
   "id": "19a348c6",
   "metadata": {},
   "source": [
    "We will concern ourselves with Class 2 and Class 3 states. We can check that our states are in these two classes by taking 3 partial trace of subsystems $A, B, C$ and verifying that the corresponding reduced density matrix represents a mixed state."
   ]
  },
  {
   "cell_type": "markdown",
   "id": "9e542635",
   "metadata": {},
   "source": [
    "#### Class 2\n",
    "\n",
    "We will first look at the Class 2 states to analyze their entanglement structure. Below we show a representative circuit."
   ]
  },
  {
   "cell_type": "code",
   "execution_count": 5,
   "id": "46abdf9c",
   "metadata": {},
   "outputs": [
    {
     "data": {
      "image/png": "[encoded data removed]",
      "text/plain": [
       "<Figure size 507.997x204.68 with 1 Axes>"
      ]
     },
     "execution_count": 5,
     "metadata": {},
     "output_type": "execute_result"
    }
   ],
   "source": [
    "circ = QuantumCircuit(3)\n",
    "circ.ry(2*theta, 0)\n",
    "circ.cx(0, 1)\n",
    "circ.unitary(random_unitary(dims = 2, seed = 1), 1, label = 'U1')\n",
    "circ.unitary(random_unitary(dims = 2, seed = 2), 2, label = 'U2')\n",
    "circ.cx(1, 2)\n",
    "\n",
    "circ.barrier()\n",
    "circ.unitary(random_unitary(dims = 2, seed = 0), 0)\n",
    "circ.unitary(random_unitary(dims = 2, seed = 3), 1)\n",
    "circ.unitary(random_unitary(dims = 2, seed = 4), 2)\n",
    "\n",
    "circ.draw('mpl')"
   ]
  },
  {
   "cell_type": "markdown",
   "id": "113ccb8c",
   "metadata": {},
   "source": [
    "In fact, when we take the partial trace of a subsystem, we can ignore the layer of local unitary. We first start with tracing out qubit 0"
   ]
  },
  {
   "cell_type": "code",
   "execution_count": 6,
   "id": "5092fa0a",
   "metadata": {},
   "outputs": [
    {
     "data": {
      "text/plain": [
       "Text(0, 0.5, 'Purity')"
      ]
     },
     "execution_count": 6,
     "metadata": {},
     "output_type": "execute_result"
    },
    {
     "data": {
      "image/png": "[encoded data removed]",
      "text/plain": [
       "<Figure size 432x288 with 1 Axes>"
      ]
     },
     "metadata": {
      "needs_background": "light"
     },
     "output_type": "display_data"
    }
   ],
   "source": [
    "mu_list = []\n",
    "\n",
    "for theta in np.linspace(-np.pi, np.pi, 1000):\n",
    "\n",
    "    circ = QuantumCircuit(3)\n",
    "    circ.ry(2*theta, 0)\n",
    "    circ.cx(0, 1)\n",
    "    circ.unitary(random_unitary(dims = 2, seed = np.random.randint(0, 1000)), 1)\n",
    "    circ.unitary(random_unitary(dims = 2, seed = np.random.randint(0, 1000)), 2)\n",
    "    circ.cx(1, 2)\n",
    "\n",
    "    rho = DensityMatrix(circ.reverse_bits()).data\n",
    "    traced_qubit = 0\n",
    "\n",
    "    dm = one_qubit_partial_trace(rho, traced_qubit)\n",
    "\n",
    "    mu = dm.purity()\n",
    "\n",
    "    mu_list.append(mu)\n",
    "\n",
    "plt.plot(np.linspace(-np.pi, np.pi, 1000), mu_list)\n",
    "plt.xlabel('Angle')\n",
    "plt.ylabel('Purity')"
   ]
  },
  {
   "cell_type": "markdown",
   "id": "f600bc99",
   "metadata": {},
   "source": [
    "We see that the purity graph still depends on the angle of $\\theta$ as the two qubit case. Variations in the parameters of $U1$ and $U2$ does not affect the purity."
   ]
  },
  {
   "cell_type": "code",
   "execution_count": 7,
   "id": "e2449b90",
   "metadata": {},
   "outputs": [
    {
     "data": {
      "text/plain": [
       "Text(0, 0.5, 'Purity')"
      ]
     },
     "execution_count": 7,
     "metadata": {},
     "output_type": "execute_result"
    },
    {
     "data": {
      "image/png": "[encoded data removed]",
      "text/plain": [
       "<Figure size 432x288 with 1 Axes>"
      ]
     },
     "metadata": {
      "needs_background": "light"
     },
     "output_type": "display_data"
    }
   ],
   "source": [
    "mu_list = []\n",
    "\n",
    "for theta in np.linspace(-np.pi, np.pi, 2000):\n",
    "\n",
    "    circ = QuantumCircuit(3)\n",
    "    circ.ry(2*theta, 0)\n",
    "    circ.cx(0, 1)\n",
    "    circ.unitary(random_unitary(dims = 2, seed = np.random.randint(0, 1000) ), 1) # U1\n",
    "    circ.unitary(random_unitary(dims = 2, seed = np.random.randint(0, 1000)), 2) # U2\n",
    "    circ.cx(1, 2)\n",
    "\n",
    "    rho = DensityMatrix(circ.reverse_bits()).data\n",
    "    traced_qubit = 1\n",
    "\n",
    "    dm = one_qubit_partial_trace(rho, traced_qubit)\n",
    "\n",
    "    mu = dm.purity()\n",
    "\n",
    "    mu_list.append(mu)\n",
    "\n",
    "plt.plot(np.linspace(-np.pi, np.pi, 2000), mu_list)\n",
    "plt.xlabel('Angle')\n",
    "plt.ylabel('Purity')"
   ]
  },
  {
   "cell_type": "markdown",
   "id": "cf80d527",
   "metadata": {},
   "source": [
    "The graph still has the original periodic structure that depends on $\\theta$ that is it retains the period and range. However, now the amplitude of the function depends on the parameters of $U1$ and $U2$. (Investigate this!)"
   ]
  },
  {
   "cell_type": "code",
   "execution_count": 8,
   "id": "894c56b5",
   "metadata": {},
   "outputs": [
    {
     "data": {
      "text/plain": [
       "Text(0, 0.5, 'Purity')"
      ]
     },
     "execution_count": 8,
     "metadata": {},
     "output_type": "execute_result"
    },
    {
     "data": {
      "image/png": "[encoded data removed]",
      "text/plain": [
       "<Figure size 432x288 with 1 Axes>"
      ]
     },
     "metadata": {
      "needs_background": "light"
     },
     "output_type": "display_data"
    }
   ],
   "source": [
    "mu_list = []\n",
    "\n",
    "for theta in np.linspace(-np.pi, np.pi, 2000):\n",
    "\n",
    "    circ = QuantumCircuit(3)\n",
    "    circ.ry(2*theta, 0)\n",
    "    circ.cx(0, 1)\n",
    "    circ.unitary(random_unitary(dims = 2, seed = 2 ), 1) # U1\n",
    "    circ.unitary(random_unitary(dims = 2, seed = np.random.randint(0, 1000) ), 2) # U2\n",
    "    circ.cx(1, 2)\n",
    "\n",
    "    rho = DensityMatrix(circ.reverse_bits()).data\n",
    "    traced_qubit = 2\n",
    "\n",
    "    dm = one_qubit_partial_trace(rho, traced_qubit)\n",
    "\n",
    "    mu = dm.purity()\n",
    "\n",
    "    mu_list.append(mu)\n",
    "\n",
    "plt.plot(np.linspace(-np.pi, np.pi, 2000), mu_list)\n",
    "plt.xlabel('Angle')\n",
    "plt.ylabel('Purity')"
   ]
  },
  {
   "cell_type": "markdown",
   "id": "f885069b",
   "metadata": {},
   "source": [
    "When both parameters of $U1$ and $U2$ are randomized. The graph lost all it sinusoidal characteristic. However, it still retains the range of the angle. Interestingly, when the parameter of $U1$ are free to range, the graph fills the bottom of the curve. On the other hand, when the parameters of $U2$ are randomized. The graph fills the top fo the curve."
   ]
  },
  {
   "cell_type": "markdown",
   "id": "2e5b118f",
   "metadata": {},
   "source": [
    "To investigate the parameterization of $Tr_B[\\rho]$ and $Tr_C[\\rho]$, we decompose U1 into $Rz$ and $Ry$ (the other $Rz$ commute through the control) and we decompose U2 into $Ry$ and $Rz$ (the other $Rz$ turns into a global phase when the input of $q_2$ is $|0\\rangle$)."
   ]
  },
  {
   "cell_type": "code",
   "execution_count": 9,
   "id": "38698f09",
   "metadata": {},
   "outputs": [
    {
     "data": {
      "image/png": "[encoded data removed]",
      "text/plain": [
       "<Figure size 568.197x204.68 with 1 Axes>"
      ]
     },
     "execution_count": 9,
     "metadata": {},
     "output_type": "execute_result"
    }
   ],
   "source": [
    "circ = QuantumCircuit(3)\n",
    "circ.ry(2*theta, 0)\n",
    "circ.cx(0, 1)\n",
    "circ.unitary(random_unitary(dims = 2, seed = 1), 1, label = 'Rz1')\n",
    "circ.unitary(random_unitary(dims = 2, seed = 1), 1, label = 'Ry1')\n",
    "circ.unitary(random_unitary(dims = 2, seed = 2), 2, label = 'Ry2')\n",
    "circ.unitary(random_unitary(dims = 2, seed = 2), 2, label = 'Rz2')\n",
    "circ.cx(1, 2)\n",
    "\n",
    "circ.barrier()\n",
    "circ.unitary(random_unitary(dims = 2, seed = 0), 0)\n",
    "circ.unitary(random_unitary(dims = 2, seed = 3), 1)\n",
    "circ.unitary(random_unitary(dims = 2, seed = 4), 2)\n",
    "\n",
    "circ.draw('mpl')"
   ]
  },
  {
   "cell_type": "code",
   "execution_count": 10,
   "id": "24c912c6",
   "metadata": {},
   "outputs": [
    {
     "ename": "NameError",
     "evalue": "name 'theta_ry0' is not defined",
     "output_type": "error",
     "traceback": [
      "\u001b[0;31m---------------------------------------------------------------------------\u001b[0m",
      "\u001b[0;31mNameError\u001b[0m                                 Traceback (most recent call last)",
      "\u001b[0;32m<ipython-input-10-c505d38a756d>\u001b[0m in \u001b[0;36m<module>\u001b[0;34m\u001b[0m\n\u001b[0;32m----> 1\u001b[0;31m \u001b[0mtheta_ry0\u001b[0m\u001b[0;34m\u001b[0m\u001b[0;34m\u001b[0m\u001b[0m\n\u001b[0m\u001b[1;32m      2\u001b[0m \u001b[0mtheta_rz1\u001b[0m\u001b[0;34m\u001b[0m\u001b[0;34m\u001b[0m\u001b[0m\n\u001b[1;32m      3\u001b[0m \u001b[0mtheta_ry1\u001b[0m\u001b[0;34m\u001b[0m\u001b[0;34m\u001b[0m\u001b[0m\n\u001b[1;32m      4\u001b[0m \u001b[0mtheta_rz2\u001b[0m\u001b[0;34m\u001b[0m\u001b[0;34m\u001b[0m\u001b[0m\n\u001b[1;32m      5\u001b[0m \u001b[0mtheta_ry2\u001b[0m\u001b[0;34m\u001b[0m\u001b[0;34m\u001b[0m\u001b[0m\n",
      "\u001b[0;31mNameError\u001b[0m: name 'theta_ry0' is not defined"
     ]
    }
   ],
   "source": [
    "theta_ry0\n",
    "theta_rz1\n",
    "theta_ry1\n",
    "theta_rz2\n",
    "theta_ry2"
   ]
  },
  {
   "cell_type": "code",
   "execution_count": 403,
   "id": "630ca258",
   "metadata": {},
   "outputs": [
    {
     "data": {
      "text/plain": [
       "Text(0, 0.5, 'Purity')"
      ]
     },
     "execution_count": 403,
     "metadata": {},
     "output_type": "execute_result"
    },
    {
     "data": {
      "image/png": "[encoded data removed]",
      "text/plain": [
       "<Figure size 432x288 with 1 Axes>"
      ]
     },
     "metadata": {
      "needs_background": "light"
     },
     "output_type": "display_data"
    }
   ],
   "source": [
    "mu_list = []\n",
    "\n",
    "np.random.seed(0)\n",
    "\n",
    "theta0, theta1, theta2, epsilon1, epsilon2 = np.random.uniform(0, 2*np.pi, 5)\n",
    "\n",
    "for epsilon2 in np.linspace(-np.pi, np.pi, 200):\n",
    "\n",
    "    circ = QuantumCircuit(3)\n",
    "    circ.ry(2*theta0, 0)\n",
    "    circ.cx(0, 1)\n",
    "    \n",
    "    circ.rz(2*epsilon1, 1) # Rz1\n",
    "    circ.ry(2*theta1, 1) # Ry1\n",
    "\n",
    "    circ.ry(2*theta2, 2) # Ry2\n",
    "    circ.rz(2*epsilon2, 2) # Rz2\n",
    "    \n",
    "    circ.cx(1, 2)\n",
    "\n",
    "    rho = DensityMatrix(circ.reverse_bits()).data\n",
    "    traced_qubit = 1\n",
    "\n",
    "    dm = one_qubit_partial_trace(rho, traced_qubit)\n",
    "\n",
    "    mu = dm.purity()\n",
    "\n",
    "    mu_list.append(mu)\n",
    "\n",
    "plt.plot(np.linspace(-np.pi, np.pi, 200), mu_list)\n",
    "\n",
    "plt.xlabel('Angle')\n",
    "plt.ylabel('Purity')"
   ]
  },
  {
   "cell_type": "code",
   "execution_count": 404,
   "id": "07d18c19",
   "metadata": {},
   "outputs": [
    {
     "data": {
      "text/plain": [
       "Text(0, 0.5, 'Purity')"
      ]
     },
     "execution_count": 404,
     "metadata": {},
     "output_type": "execute_result"
    },
    {
     "data": {
      "image/png": "[encoded data removed]",
      "text/plain": [
       "<Figure size 432x288 with 1 Axes>"
      ]
     },
     "metadata": {
      "needs_background": "light"
     },
     "output_type": "display_data"
    }
   ],
   "source": [
    "mu_list = []\n",
    "\n",
    "np.random.seed(0)\n",
    "\n",
    "theta0, theta1, theta2, epsilon1, epsilon2 = np.random.uniform(0, 2*np.pi, 5)\n",
    "\n",
    "for epsilon2 in np.linspace(-np.pi, np.pi, 200):\n",
    "\n",
    "    circ = QuantumCircuit(3)\n",
    "    circ.ry(2*theta0, 0)\n",
    "    circ.cx(0, 1)\n",
    "    \n",
    "    circ.rz(2*epsilon1, 1) # Rz1\n",
    "    circ.ry(2*theta1, 1) # Ry1\n",
    "\n",
    "    circ.ry(2*theta2, 2) # Ry2\n",
    "    circ.rz(2*epsilon2, 2) # Rz2\n",
    "    \n",
    "    circ.cx(1, 2)\n",
    "\n",
    "    rho = DensityMatrix(circ.reverse_bits()).data\n",
    "    traced_qubit = 2\n",
    "\n",
    "    dm = one_qubit_partial_trace(rho, traced_qubit)\n",
    "\n",
    "    mu = dm.purity()\n",
    "\n",
    "    mu_list.append(mu)\n",
    "\n",
    "plt.plot(np.linspace(-np.pi, np.pi, 200), mu_list)\n",
    "\n",
    "plt.xlabel('Angle')\n",
    "plt.ylabel('Purity')"
   ]
  },
  {
   "cell_type": "markdown",
   "id": "be54efe0",
   "metadata": {},
   "source": [
    "The behaviour of the paramters when tracing out qubit 1 and qubit 2 is the same\n",
    "\n",
    "- $\\theta_0$ varies $\\implies \\rho$ is sinusoidal\n",
    "- $\\theta_1$ varies $\\implies \\rho$ is sinusoidal\n",
    "- $\\theta_2$ varies $\\implies \\rho$ is flipped-sinusoidal\n",
    "- $\\epsilon_1$ varies $\\implies \\rho$ is constant\n",
    "- $\\epsilon_2$ varies $\\implies \\rho$ is sinusoidal"
   ]
  },
  {
   "cell_type": "code",
   "execution_count": 322,
   "id": "ef316479",
   "metadata": {},
   "outputs": [
    {
     "data": {
      "image/png": "[encoded data removed]",
      "text/plain": [
       "<Figure size 387.597x204.68 with 1 Axes>"
      ]
     },
     "execution_count": 322,
     "metadata": {},
     "output_type": "execute_result"
    }
   ],
   "source": [
    "np.random.seed(2)\n",
    "\n",
    "theta0, theta1, theta2, epsilon1, epsilon2 = np.random.uniform(0, 2*np.pi, 5)\n",
    "\n",
    "circ = QuantumCircuit(3)\n",
    "\n",
    "circ.ry(2*theta0, 0)\n",
    "\n",
    "circ.cx(0, 1)\n",
    "\n",
    "circ.ry(2*theta2, 2) # Ry2\n",
    "circ.rz(2*epsilon2, 2) # Rz2\n",
    "\n",
    "circ.rz(2*epsilon1, 1) # Rz1\n",
    "circ.ry(2*theta1, 1) # Ry1\n",
    "\n",
    "circ.cx(1, 2)\n",
    "\n",
    "circ.draw('mpl')"
   ]
  },
  {
   "cell_type": "markdown",
   "id": "a0121849",
   "metadata": {},
   "source": [
    "We will start looking at the properties above algebraically. First, we reconstruct the state $|\\psi\\rangle$ in terms of the parameters"
   ]
  },
  {
   "cell_type": "code",
   "execution_count": 518,
   "id": "60bfe559",
   "metadata": {},
   "outputs": [],
   "source": [
    "from sympy.physics.quantum import TensorProduct as tp\n",
    "CX = Matrix([[1, 0, 0, 0], [0, 1, 0, 0], [0, 0, 0, 1], [0, 0, 1, 0]])\n",
    "Ry = lambda theta: Matrix([[cos(theta/2), -sin(theta/2)], [sin(theta/2), cos(theta/2)]])\n",
    "Rz = lambda theta: Matrix([[exp(I*-theta/2), 0], [0, exp(I*theta/2)]])\n",
    "ID = Matrix([[1, 0], [0, 1]])"
   ]
  },
  {
   "cell_type": "code",
   "execution_count": 519,
   "id": "310e2778",
   "metadata": {},
   "outputs": [],
   "source": [
    "t = [symbols(f'theta_{i}') for i in range(3)]\n",
    "e = [symbols(f'epsilon_{i}') for i in range(3)]\n",
    "\n",
    "ket_psi = (tp(ID, CX)@tp(ID, Ry(t[1]*2)@Rz(e[1]*2), ID)@tp(CX, ID)@tp(Ry(t[0]*2), ID, Rz(e[2]*2)@Ry(t[2]*2)))[:, 0]"
   ]
  },
  {
   "cell_type": "code",
   "execution_count": 520,
   "id": "ff4b3674",
   "metadata": {},
   "outputs": [
    {
     "data": {
      "text/latex": [
       "$\\displaystyle \\left[\\begin{matrix}e^{- i \\epsilon_{1}} e^{- i \\epsilon_{2}} \\cos{\\left(\\theta_{0} \\right)} \\cos{\\left(\\theta_{1} \\right)} \\cos{\\left(\\theta_{2} \\right)}\\\\e^{- i \\epsilon_{1}} e^{i \\epsilon_{2}} \\sin{\\left(\\theta_{2} \\right)} \\cos{\\left(\\theta_{0} \\right)} \\cos{\\left(\\theta_{1} \\right)}\\\\e^{- i \\epsilon_{1}} e^{i \\epsilon_{2}} \\sin{\\left(\\theta_{1} \\right)} \\sin{\\left(\\theta_{2} \\right)} \\cos{\\left(\\theta_{0} \\right)}\\\\e^{- i \\epsilon_{1}} e^{- i \\epsilon_{2}} \\sin{\\left(\\theta_{1} \\right)} \\cos{\\left(\\theta_{0} \\right)} \\cos{\\left(\\theta_{2} \\right)}\\\\- e^{i \\epsilon_{1}} e^{- i \\epsilon_{2}} \\sin{\\left(\\theta_{0} \\right)} \\sin{\\left(\\theta_{1} \\right)} \\cos{\\left(\\theta_{2} \\right)}\\\\- e^{i \\epsilon_{1}} e^{i \\epsilon_{2}} \\sin{\\left(\\theta_{0} \\right)} \\sin{\\left(\\theta_{1} \\right)} \\sin{\\left(\\theta_{2} \\right)}\\\\e^{i \\epsilon_{1}} e^{i \\epsilon_{2}} \\sin{\\left(\\theta_{0} \\right)} \\sin{\\left(\\theta_{2} \\right)} \\cos{\\left(\\theta_{1} \\right)}\\\\e^{i \\epsilon_{1}} e^{- i \\epsilon_{2}} \\sin{\\left(\\theta_{0} \\right)} \\cos{\\left(\\theta_{1} \\right)} \\cos{\\left(\\theta_{2} \\right)}\\end{matrix}\\right]$"
      ],
      "text/plain": [
       "Matrix([\n",
       "[exp(-I*epsilon_1)*exp(-I*epsilon_2)*cos(theta_0)*cos(theta_1)*cos(theta_2)],\n",
       "[ exp(-I*epsilon_1)*exp(I*epsilon_2)*sin(theta_2)*cos(theta_0)*cos(theta_1)],\n",
       "[ exp(-I*epsilon_1)*exp(I*epsilon_2)*sin(theta_1)*sin(theta_2)*cos(theta_0)],\n",
       "[exp(-I*epsilon_1)*exp(-I*epsilon_2)*sin(theta_1)*cos(theta_0)*cos(theta_2)],\n",
       "[-exp(I*epsilon_1)*exp(-I*epsilon_2)*sin(theta_0)*sin(theta_1)*cos(theta_2)],\n",
       "[ -exp(I*epsilon_1)*exp(I*epsilon_2)*sin(theta_0)*sin(theta_1)*sin(theta_2)],\n",
       "[  exp(I*epsilon_1)*exp(I*epsilon_2)*sin(theta_0)*sin(theta_2)*cos(theta_1)],\n",
       "[ exp(I*epsilon_1)*exp(-I*epsilon_2)*sin(theta_0)*cos(theta_1)*cos(theta_2)]])"
      ]
     },
     "execution_count": 520,
     "metadata": {},
     "output_type": "execute_result"
    }
   ],
   "source": [
    "ket_psi"
   ]
  },
  {
   "cell_type": "code",
   "execution_count": 533,
   "id": "102f4807",
   "metadata": {},
   "outputs": [],
   "source": [
    "# Test for correctness\n",
    "psi_actual = Statevector(circ.reverse_bits()).data.reshape(8, 1)\n",
    "psi_test = simplify(ket_psi.subs([(t[0], theta0), \n",
    "          (t[1], theta1), \n",
    "          (t[2], theta2), \n",
    "          (e[1], epsilon1), \n",
    "          (e[2], epsilon2)]))\n",
    "\n",
    "psi_test = np.array(psi_test).astype(np.complex128)\n",
    "\n",
    "aae(psi_actual, psi_test)"
   ]
  },
  {
   "cell_type": "markdown",
   "id": "2a06b8ff",
   "metadata": {},
   "source": [
    "Now we construct the density matrix"
   ]
  },
  {
   "cell_type": "code",
   "execution_count": 534,
   "id": "d969c7d9",
   "metadata": {},
   "outputs": [
    {
     "data": {
      "text/latex": [
       "$\\displaystyle 1$"
      ],
      "text/plain": [
       "1"
      ]
     },
     "execution_count": 534,
     "metadata": {},
     "output_type": "execute_result"
    }
   ],
   "source": [
    "bra_psi = Matrix([[exp(-I*-e[1])*exp(-I*-e[2])*cos(t[0])*cos(t[1])*cos(t[2]),exp(-I*-e[1])*exp(I*-e[2])*sin(t[2])*cos(t[0])*cos(t[1]),exp(-I*-e[1])*exp(I*-e[2])*sin(t[1])*sin(t[2])*cos(t[0]),exp(-I*-e[1])*exp(-I*-e[2])*sin(t[1])*cos(t[0])*cos(t[2]),-exp(I*-e[1])*exp(-I*-e[2])*sin(t[0])*sin(t[1])*cos(t[2]),-exp(I*-e[1])*exp(I*-e[2])*sin(t[0])*sin(t[1])*sin(t[2]),exp(I*-e[1])*exp(I*-e[2])*sin(t[0])*sin(t[2])*cos(t[1]),exp(I*-e[1])*exp(-I*-e[2])*sin(t[0])*cos(t[1])*cos(t[2])]])\n",
    "\n",
    "rho = ket_psi@bra_psi\n",
    "\n",
    "# We verify that the trace is equal to 1\n",
    "simplify(simplify(Trace(rho)))"
   ]
  },
  {
   "cell_type": "markdown",
   "id": "35149fef",
   "metadata": {},
   "source": [
    "We now look at the partial trace. We will rebuild the partial trace function from above"
   ]
  },
  {
   "cell_type": "code",
   "execution_count": 523,
   "id": "5d09c538",
   "metadata": {},
   "outputs": [],
   "source": [
    "def one_qubit_partial_trace_sym(rho: Matrix, traced_qubit: int) -> Matrix:\n",
    "\n",
    "    dim = int(np.log2(rho.shape[0]))\n",
    "    assert traced_qubit < dim, \"Traced qubit index out of range\"\n",
    "    \n",
    "    ID = Matrix([[1, 0], [0, 1]])\n",
    "    zero = Matrix([[1], [0]])\n",
    "    one = Matrix([[0], [1]])\n",
    "\n",
    "    # Create pre and post of partial trace\n",
    "    pre_zero = tp(*[zero.T if i == traced_qubit else ID for i in range(dim)])\n",
    "    post_zero = tp(*[zero if i == traced_qubit else ID for i in range(dim)])\n",
    "    pre_one = tp(*[one.T if i == traced_qubit else ID for i in range(dim)])\n",
    "    post_one = tp(*[one if i == traced_qubit else ID for i in range(dim)])\n",
    "\n",
    "    reduced_density_matrix = pre_zero@rho@post_zero + pre_one@rho@post_one\n",
    "\n",
    "    assert simplify(simplify(Trace(reduced_density_matrix))) == 1, 'Reduced density operator is not valid'\n",
    "    return reduced_density_matrix"
   ]
  },
  {
   "cell_type": "code",
   "execution_count": 524,
   "id": "38227d3c",
   "metadata": {},
   "outputs": [],
   "source": [
    "trace_sym = lambda rho: simplify(simplify(Trace(rho@rho))) # Symbolic trace"
   ]
  },
  {
   "cell_type": "markdown",
   "id": "4fc8bdf0",
   "metadata": {},
   "source": [
    "#### 1. Subsystem $\\rho_{BC}$"
   ]
  },
  {
   "cell_type": "code",
   "execution_count": 525,
   "id": "2bb89c4f",
   "metadata": {
    "scrolled": true
   },
   "outputs": [
    {
     "data": {
      "text/latex": [
       "$\\displaystyle 2 \\sin^{4}{\\left(\\theta_{0} \\right)} - 2 \\sin^{2}{\\left(\\theta_{0} \\right)} + 1$"
      ],
      "text/plain": [
       "2*sin(theta_0)**4 - 2*sin(theta_0)**2 + 1"
      ]
     },
     "execution_count": 525,
     "metadata": {},
     "output_type": "execute_result"
    }
   ],
   "source": [
    "rho_0 = one_qubit_partial_trace_sym(rho, 0)\n",
    "\n",
    "purity0 = trace_sym(rho_0)\n",
    "\n",
    "purity0"
   ]
  },
  {
   "cell_type": "markdown",
   "id": "edf71b05",
   "metadata": {},
   "source": [
    "We have an expression for the purity of the mixed state of combined subsystem $BC$. Interestingly, it only depends on one parameter $\\theta_0$. In addition, the expression below is exactly the same as that the traced subsystem of the 2 qubit case.\n",
    "\n",
    "$$\\begin{align} Tr[\\rho_{BC}^2] &= 2\\sin^4(\\theta_0) - 2\\sin^2(\\theta_0) + 1 \\\\ &= \\sin^4(\\theta_0) + \\sin^4(\\theta_0) - 2\\sin^2(\\theta_0) + 1 \\\\ &= \\sin^4(\\theta_0) + (1-\\sin^2(\\theta_0))^2 \\\\ &= \\sin^4(\\theta_0) + \\cos^4(\\theta_0) \\\\ &= \\frac{3}{4}\\cos(4\\theta_0) + \\frac{1}{4}\\end{align}$$"
   ]
  },
  {
   "cell_type": "markdown",
   "id": "71c9c03c",
   "metadata": {},
   "source": [
    "#### 2. Subsystem $\\rho_{AC}$"
   ]
  },
  {
   "cell_type": "code",
   "execution_count": 526,
   "id": "feb31ebc",
   "metadata": {},
   "outputs": [
    {
     "data": {
      "text/latex": [
       "$\\displaystyle 2 e^{4 i \\epsilon_{2}} \\sin^{4}{\\left(\\theta_{0} \\right)} \\sin^{2}{\\left(\\theta_{1} \\right)} \\sin^{2}{\\left(\\theta_{2} \\right)} \\cos^{2}{\\left(\\theta_{1} \\right)} \\cos^{2}{\\left(\\theta_{2} \\right)} - 4 e^{4 i \\epsilon_{2}} \\sin^{2}{\\left(\\theta_{0} \\right)} \\sin^{2}{\\left(\\theta_{1} \\right)} \\sin^{2}{\\left(\\theta_{2} \\right)} \\cos^{2}{\\left(\\theta_{0} \\right)} \\cos^{2}{\\left(\\theta_{1} \\right)} \\cos^{2}{\\left(\\theta_{2} \\right)} + 2 e^{4 i \\epsilon_{2}} \\sin^{2}{\\left(\\theta_{1} \\right)} \\sin^{2}{\\left(\\theta_{2} \\right)} \\cos^{4}{\\left(\\theta_{0} \\right)} \\cos^{2}{\\left(\\theta_{1} \\right)} \\cos^{2}{\\left(\\theta_{2} \\right)} - \\frac{\\sin^{4}{\\left(\\theta_{0} \\right)} \\sin^{4}{\\left(\\theta_{1} \\right)} \\cos{\\left(4 \\theta_{2} \\right)}}{4} + \\frac{\\sin^{4}{\\left(\\theta_{0} \\right)} \\sin^{4}{\\left(\\theta_{1} \\right)}}{4} - \\frac{\\sin^{4}{\\left(\\theta_{0} \\right)} \\cos^{4}{\\left(\\theta_{1} \\right)} \\cos{\\left(4 \\theta_{2} \\right)}}{4} + \\frac{\\sin^{4}{\\left(\\theta_{0} \\right)} \\cos^{4}{\\left(\\theta_{1} \\right)}}{4} + \\frac{\\sin^{4}{\\left(\\theta_{0} \\right)} \\cos^{2}{\\left(2 \\theta_{1} - 2 \\theta_{2} \\right)}}{8} + \\frac{\\sin^{4}{\\left(\\theta_{0} \\right)} \\cos{\\left(2 \\theta_{1} - 2 \\theta_{2} \\right)} \\cos{\\left(2 \\theta_{1} + 2 \\theta_{2} \\right)}}{4} + \\frac{\\sin^{4}{\\left(\\theta_{0} \\right)} \\cos^{2}{\\left(2 \\theta_{1} + 2 \\theta_{2} \\right)}}{8} + \\frac{\\sin^{4}{\\left(\\theta_{0} \\right)}}{2} + 8 \\sin^{2}{\\left(\\theta_{0} \\right)} \\sin^{2}{\\left(\\theta_{1} \\right)} \\sin^{2}{\\left(\\theta_{2} \\right)} \\cos^{2}{\\left(\\theta_{0} \\right)} \\cos^{2}{\\left(\\theta_{1} \\right)} \\cos^{2}{\\left(\\theta_{2} \\right)} + 4 \\sin^{2}{\\left(\\theta_{0} \\right)} \\sin^{2}{\\left(\\theta_{1} \\right)} \\cos^{2}{\\left(\\theta_{0} \\right)} \\cos^{2}{\\left(\\theta_{1} \\right)} \\cos^{2}{\\left(2 \\theta_{2} \\right)} - \\frac{\\sin^{4}{\\left(\\theta_{1} \\right)} \\cos^{4}{\\left(\\theta_{0} \\right)} \\cos{\\left(4 \\theta_{2} \\right)}}{4} + \\frac{\\sin^{4}{\\left(\\theta_{1} \\right)} \\cos^{4}{\\left(\\theta_{0} \\right)}}{4} - \\frac{\\cos^{4}{\\left(\\theta_{0} \\right)} \\cos^{4}{\\left(\\theta_{1} \\right)} \\cos{\\left(4 \\theta_{2} \\right)}}{4} + \\frac{\\cos^{4}{\\left(\\theta_{0} \\right)} \\cos^{4}{\\left(\\theta_{1} \\right)}}{4} + \\frac{\\cos^{4}{\\left(\\theta_{0} \\right)} \\cos^{2}{\\left(2 \\theta_{1} - 2 \\theta_{2} \\right)}}{8} + \\frac{\\cos^{4}{\\left(\\theta_{0} \\right)} \\cos{\\left(2 \\theta_{1} - 2 \\theta_{2} \\right)} \\cos{\\left(2 \\theta_{1} + 2 \\theta_{2} \\right)}}{4} + \\frac{\\cos^{4}{\\left(\\theta_{0} \\right)} \\cos^{2}{\\left(2 \\theta_{1} + 2 \\theta_{2} \\right)}}{8} + \\frac{\\cos^{4}{\\left(\\theta_{0} \\right)}}{2} + 2 e^{- 4 i \\epsilon_{2}} \\sin^{4}{\\left(\\theta_{0} \\right)} \\sin^{2}{\\left(\\theta_{1} \\right)} \\sin^{2}{\\left(\\theta_{2} \\right)} \\cos^{2}{\\left(\\theta_{1} \\right)} \\cos^{2}{\\left(\\theta_{2} \\right)} - 4 e^{- 4 i \\epsilon_{2}} \\sin^{2}{\\left(\\theta_{0} \\right)} \\sin^{2}{\\left(\\theta_{1} \\right)} \\sin^{2}{\\left(\\theta_{2} \\right)} \\cos^{2}{\\left(\\theta_{0} \\right)} \\cos^{2}{\\left(\\theta_{1} \\right)} \\cos^{2}{\\left(\\theta_{2} \\right)} + 2 e^{- 4 i \\epsilon_{2}} \\sin^{2}{\\left(\\theta_{1} \\right)} \\sin^{2}{\\left(\\theta_{2} \\right)} \\cos^{4}{\\left(\\theta_{0} \\right)} \\cos^{2}{\\left(\\theta_{1} \\right)} \\cos^{2}{\\left(\\theta_{2} \\right)}$"
      ],
      "text/plain": [
       "2*exp(4*I*epsilon_2)*sin(theta_0)**4*sin(theta_1)**2*sin(theta_2)**2*cos(theta_1)**2*cos(theta_2)**2 - 4*exp(4*I*epsilon_2)*sin(theta_0)**2*sin(theta_1)**2*sin(theta_2)**2*cos(theta_0)**2*cos(theta_1)**2*cos(theta_2)**2 + 2*exp(4*I*epsilon_2)*sin(theta_1)**2*sin(theta_2)**2*cos(theta_0)**4*cos(theta_1)**2*cos(theta_2)**2 - sin(theta_0)**4*sin(theta_1)**4*cos(4*theta_2)/4 + sin(theta_0)**4*sin(theta_1)**4/4 - sin(theta_0)**4*cos(theta_1)**4*cos(4*theta_2)/4 + sin(theta_0)**4*cos(theta_1)**4/4 + sin(theta_0)**4*cos(2*theta_1 - 2*theta_2)**2/8 + sin(theta_0)**4*cos(2*theta_1 - 2*theta_2)*cos(2*theta_1 + 2*theta_2)/4 + sin(theta_0)**4*cos(2*theta_1 + 2*theta_2)**2/8 + sin(theta_0)**4/2 + 8*sin(theta_0)**2*sin(theta_1)**2*sin(theta_2)**2*cos(theta_0)**2*cos(theta_1)**2*cos(theta_2)**2 + 4*sin(theta_0)**2*sin(theta_1)**2*cos(theta_0)**2*cos(theta_1)**2*cos(2*theta_2)**2 - sin(theta_1)**4*cos(theta_0)**4*cos(4*theta_2)/4 + sin(theta_1)**4*cos(theta_0)**4/4 - cos(theta_0)**4*cos(theta_1)**4*cos(4*theta_2)/4 + cos(theta_0)**4*cos(theta_1)**4/4 + cos(theta_0)**4*cos(2*theta_1 - 2*theta_2)**2/8 + cos(theta_0)**4*cos(2*theta_1 - 2*theta_2)*cos(2*theta_1 + 2*theta_2)/4 + cos(theta_0)**4*cos(2*theta_1 + 2*theta_2)**2/8 + cos(theta_0)**4/2 + 2*exp(-4*I*epsilon_2)*sin(theta_0)**4*sin(theta_1)**2*sin(theta_2)**2*cos(theta_1)**2*cos(theta_2)**2 - 4*exp(-4*I*epsilon_2)*sin(theta_0)**2*sin(theta_1)**2*sin(theta_2)**2*cos(theta_0)**2*cos(theta_1)**2*cos(theta_2)**2 + 2*exp(-4*I*epsilon_2)*sin(theta_1)**2*sin(theta_2)**2*cos(theta_0)**4*cos(theta_1)**2*cos(theta_2)**2"
      ]
     },
     "execution_count": 526,
     "metadata": {},
     "output_type": "execute_result"
    }
   ],
   "source": [
    "rho_1 = one_qubit_partial_trace_sym(rho, 1)\n",
    "\n",
    "purity1 = simplify(trace_sym(rho_1))\n",
    "\n",
    "purity1"
   ]
  },
  {
   "cell_type": "markdown",
   "id": "d5b284a3",
   "metadata": {},
   "source": [
    "If we separate the real and the complex part of this expression and simplify them individually, and after that add them together, we get a real expression. This is because the value for purity is real. If we look at all the parameters in the expression, we will see that $\\epsilon_1$ is missing. The confirms our observation that $\\epsilon_1$ remains constant from above."
   ]
  },
  {
   "cell_type": "code",
   "execution_count": 570,
   "id": "4d3ddedf",
   "metadata": {},
   "outputs": [
    {
     "data": {
      "text/plain": [
       "{epsilon_2, theta_0, theta_1, theta_2}"
      ]
     },
     "execution_count": 570,
     "metadata": {},
     "output_type": "execute_result"
    }
   ],
   "source": [
    "purity1.free_symbols"
   ]
  },
  {
   "cell_type": "code",
   "execution_count": 571,
   "id": "5f09fcab",
   "metadata": {
    "scrolled": true
   },
   "outputs": [
    {
     "name": "stdout",
     "output_type": "stream",
     "text": [
      "0 1 \n",
      "\n",
      "1 -2*sin(theta_0)**2 \n",
      "\n",
      "2 -2*sin(theta_1)**2 \n",
      "\n",
      "3 2*sin(theta_0)**4 \n",
      "\n",
      "4 2*sin(theta_1)**4 \n",
      "\n",
      "5 -8*sin(theta_0)**2*sin(theta_1)**4 \n",
      "\n",
      "6 -8*sin(theta_0)**4*sin(theta_1)**2 \n",
      "\n",
      "7 -4*sin(theta_1)**2*sin(theta_2)**4 \n",
      "\n",
      "8 -4*sin(theta_1)**4*sin(theta_2)**2 \n",
      "\n",
      "9 4*sin(theta_1)**2*sin(theta_2)**2 \n",
      "\n",
      "10 4*sin(theta_1)**4*sin(theta_2)**4 \n",
      "\n",
      "11 8*sin(theta_0)**2*sin(theta_1)**2 \n",
      "\n",
      "12 8*sin(theta_0)**4*sin(theta_1)**4 \n",
      "\n",
      "13 -16*sin(theta_0)**2*sin(theta_1)**2*sin(theta_2)**2 \n",
      "\n",
      "14 -16*sin(theta_0)**2*sin(theta_1)**4*sin(theta_2)**4 \n",
      "\n",
      "15 -16*sin(theta_0)**4*sin(theta_1)**2*sin(theta_2)**4 \n",
      "\n",
      "16 -16*sin(theta_0)**4*sin(theta_1)**4*sin(theta_2)**2 \n",
      "\n",
      "17 16*sin(theta_0)**2*sin(theta_1)**2*sin(theta_2)**4 \n",
      "\n",
      "18 16*sin(theta_0)**2*sin(theta_1)**4*sin(theta_2)**2 \n",
      "\n",
      "19 16*sin(theta_0)**4*sin(theta_1)**2*sin(theta_2)**2 \n",
      "\n",
      "20 16*sin(theta_0)**4*sin(theta_1)**4*sin(theta_2)**4 \n",
      "\n",
      "21 4*sin(theta_1)**2*sin(theta_2)**2*cos(4*epsilon_2)*cos(2*theta_0)**2*cos(theta_1)**2*cos(theta_2)**2 \n",
      "\n"
     ]
    }
   ],
   "source": [
    "terms = purity1.args\n",
    "\n",
    "for i, term in enumerate(terms):\n",
    "    print(i, term, '\\n')"
   ]
  },
  {
   "cell_type": "code",
   "execution_count": 572,
   "id": "8f24cf6e",
   "metadata": {},
   "outputs": [],
   "source": [
    "real_terms = sum(terms[:17] + (terms[21], ))\n",
    "real_terms = simplify(simplify(real_terms))\n",
    "\n",
    "complex_terms = sum(terms[17:21] + terms[22:])\n",
    "complex_terms = simplify(simplify(complex_terms))"
   ]
  },
  {
   "cell_type": "code",
   "execution_count": 584,
   "id": "bf1393dd",
   "metadata": {},
   "outputs": [],
   "source": [
    "purity1 = expand(real_terms + complex_terms)"
   ]
  },
  {
   "cell_type": "code",
   "execution_count": 585,
   "id": "c7ab5aa5",
   "metadata": {},
   "outputs": [],
   "source": [
    "# Testing expression\n",
    "\n",
    "for i in range(100):\n",
    "    np.random.seed(i)\n",
    "\n",
    "    theta0, theta1, theta2, epsilon1, epsilon2 = np.random.uniform(0, 2*np.pi, 5)\n",
    "\n",
    "    circ = QuantumCircuit(3)\n",
    "    circ.ry(2*theta0, 0)\n",
    "    circ.cx(0, 1)\n",
    "\n",
    "    circ.rz(2*epsilon1, 1) # Rz1\n",
    "    circ.ry(2*theta1, 1) # Ry1\n",
    "\n",
    "    circ.ry(2*theta2, 2) # Ry2\n",
    "    circ.rz(2*epsilon2, 2) # Rz2\n",
    "\n",
    "    circ.cx(1, 2)\n",
    "\n",
    "    rho = DensityMatrix(circ.reverse_bits()).data\n",
    "    traced_qubit = 1\n",
    "\n",
    "    dm = one_qubit_partial_trace(rho, traced_qubit)\n",
    "\n",
    "    mu_actual = dm.purity()\n",
    "\n",
    "    mu_test = simplify(final_purity1.subs([(t[0], theta0), \n",
    "              (t[1], theta1), \n",
    "              (t[2], theta2), \n",
    "              (e[1], epsilon1), \n",
    "              (e[2], epsilon2)]))\n",
    "\n",
    "    aae(float(mu_test), mu_actual)"
   ]
  },
  {
   "cell_type": "code",
   "execution_count": 606,
   "id": "dad89363",
   "metadata": {},
   "outputs": [
    {
     "data": {
      "text/plain": [
       "(1,\n",
       " -2*sin(theta_0)**2,\n",
       " -2*sin(theta_1)**2,\n",
       " 2*sin(theta_0)**4,\n",
       " 2*sin(theta_1)**4,\n",
       " -8*sin(theta_0)**2*sin(theta_1)**4,\n",
       " -8*sin(theta_0)**4*sin(theta_1)**2,\n",
       " -4*sin(theta_1)**2*sin(theta_2)**4,\n",
       " -4*sin(theta_1)**4*sin(theta_2)**2,\n",
       " 4*sin(theta_1)**2*sin(theta_2)**2,\n",
       " 4*sin(theta_1)**4*sin(theta_2)**4,\n",
       " 8*sin(theta_0)**2*sin(theta_1)**2,\n",
       " 8*sin(theta_0)**4*sin(theta_1)**4,\n",
       " -16*sin(theta_0)**2*sin(theta_1)**2*sin(theta_2)**2,\n",
       " -16*sin(theta_0)**2*sin(theta_1)**4*sin(theta_2)**4,\n",
       " -16*sin(theta_0)**4*sin(theta_1)**2*sin(theta_2)**4,\n",
       " -16*sin(theta_0)**4*sin(theta_1)**4*sin(theta_2)**2,\n",
       " 16*sin(theta_0)**2*sin(theta_1)**2*sin(theta_2)**4,\n",
       " 16*sin(theta_0)**2*sin(theta_1)**4*sin(theta_2)**2,\n",
       " 16*sin(theta_0)**4*sin(theta_1)**2*sin(theta_2)**2,\n",
       " 16*sin(theta_0)**4*sin(theta_1)**4*sin(theta_2)**4,\n",
       " 4*sin(theta_1)**2*sin(theta_2)**2*cos(theta_1)**2*cos(theta_2)**2,\n",
       " -32*sin(theta_1)**2*sin(theta_2)**2*cos(epsilon_2)**2*cos(theta_1)**2*cos(theta_2)**2,\n",
       " -16*sin(theta_1)**2*sin(theta_2)**2*cos(theta_0)**2*cos(theta_1)**2*cos(theta_2)**2,\n",
       " 16*sin(theta_1)**2*sin(theta_2)**2*cos(theta_0)**4*cos(theta_1)**2*cos(theta_2)**2,\n",
       " 32*sin(theta_1)**2*sin(theta_2)**2*cos(epsilon_2)**4*cos(theta_1)**2*cos(theta_2)**2,\n",
       " -128*sin(theta_1)**2*sin(theta_2)**2*cos(epsilon_2)**2*cos(theta_0)**4*cos(theta_1)**2*cos(theta_2)**2,\n",
       " -128*sin(theta_1)**2*sin(theta_2)**2*cos(epsilon_2)**4*cos(theta_0)**2*cos(theta_1)**2*cos(theta_2)**2,\n",
       " 128*sin(theta_1)**2*sin(theta_2)**2*cos(epsilon_2)**2*cos(theta_0)**2*cos(theta_1)**2*cos(theta_2)**2,\n",
       " 128*sin(theta_1)**2*sin(theta_2)**2*cos(epsilon_2)**4*cos(theta_0)**4*cos(theta_1)**2*cos(theta_2)**2)"
      ]
     },
     "execution_count": 606,
     "metadata": {},
     "output_type": "execute_result"
    }
   ],
   "source": [
    "terms = expand(expand_trig(purity1)).args\n",
    "\n",
    "terms"
   ]
  },
  {
   "cell_type": "markdown",
   "id": "274b3d4a",
   "metadata": {},
   "source": [
    "Looking at the terms of our expression, we see that we have:\n",
    "\n",
    "Real Terms\n",
    "- 1 terms of coefficient 1, each has 0 trig terms\n",
    "- 4 terms with coefficient ±2, each has 1 trig terms\n",
    "- 4 terms with coefficient ±4, each has 2 trig terms\n",
    "- 4 terms with coefficient ±8, each has 2 trig terms\n",
    "- 8 terms with coefficient ±16, each has 3 trig terms\n",
    "\n",
    "Imaginary Terms\n",
    "- 1 terms with coefficient 4, each has 4 trig terms\n",
    "- 2 terms with coefficient ±16, each has 5 trig terms\n",
    "- 2 terms with coefficient ±32, each has 5 trig terms\n",
    "- 4 terms with coefficient ±128, each has 6 trig terms"
   ]
  },
  {
   "cell_type": "markdown",
   "id": "05c02cea",
   "metadata": {},
   "source": [
    "#### 3. Subsystem $\\rho_{AB}$"
   ]
  },
  {
   "cell_type": "code",
   "execution_count": 600,
   "id": "38eb541f",
   "metadata": {},
   "outputs": [
    {
     "ename": "AssertionError",
     "evalue": "Reduced density operator is not valid",
     "output_type": "error",
     "traceback": [
      "\u001b[0;31m---------------------------------------------------------------------------\u001b[0m",
      "\u001b[0;31mAssertionError\u001b[0m                            Traceback (most recent call last)",
      "\u001b[0;32m<ipython-input-600-16673bc5d852>\u001b[0m in \u001b[0;36m<module>\u001b[0;34m\u001b[0m\n\u001b[0;32m----> 1\u001b[0;31m \u001b[0mrho_2\u001b[0m \u001b[0;34m=\u001b[0m \u001b[0mone_qubit_partial_trace_sym\u001b[0m\u001b[0;34m(\u001b[0m\u001b[0mrho\u001b[0m\u001b[0;34m,\u001b[0m \u001b[0;36m2\u001b[0m\u001b[0;34m)\u001b[0m\u001b[0;34m\u001b[0m\u001b[0;34m\u001b[0m\u001b[0m\n\u001b[0m\u001b[1;32m      2\u001b[0m \u001b[0;34m\u001b[0m\u001b[0m\n\u001b[1;32m      3\u001b[0m \u001b[0mpurity2\u001b[0m \u001b[0;34m=\u001b[0m \u001b[0msimplify\u001b[0m\u001b[0;34m(\u001b[0m\u001b[0mtrace_sym\u001b[0m\u001b[0;34m(\u001b[0m\u001b[0mrho_2\u001b[0m\u001b[0;34m)\u001b[0m\u001b[0;34m)\u001b[0m\u001b[0;34m\u001b[0m\u001b[0;34m\u001b[0m\u001b[0m\n\u001b[1;32m      4\u001b[0m \u001b[0;34m\u001b[0m\u001b[0m\n\u001b[1;32m      5\u001b[0m \u001b[0mpurity2\u001b[0m\u001b[0;34m\u001b[0m\u001b[0;34m\u001b[0m\u001b[0m\n",
      "\u001b[0;32m<ipython-input-523-2065ae74d37c>\u001b[0m in \u001b[0;36mone_qubit_partial_trace_sym\u001b[0;34m(rho, traced_qubit)\u001b[0m\n\u001b[1;32m     16\u001b[0m     \u001b[0mreduced_density_matrix\u001b[0m \u001b[0;34m=\u001b[0m \u001b[0mpre_zero\u001b[0m\u001b[0;34m@\u001b[0m\u001b[0mrho\u001b[0m\u001b[0;34m@\u001b[0m\u001b[0mpost_zero\u001b[0m \u001b[0;34m+\u001b[0m \u001b[0mpre_one\u001b[0m\u001b[0;34m@\u001b[0m\u001b[0mrho\u001b[0m\u001b[0;34m@\u001b[0m\u001b[0mpost_one\u001b[0m\u001b[0;34m\u001b[0m\u001b[0;34m\u001b[0m\u001b[0m\n\u001b[1;32m     17\u001b[0m \u001b[0;34m\u001b[0m\u001b[0m\n\u001b[0;32m---> 18\u001b[0;31m     \u001b[0;32massert\u001b[0m \u001b[0msimplify\u001b[0m\u001b[0;34m(\u001b[0m\u001b[0msimplify\u001b[0m\u001b[0;34m(\u001b[0m\u001b[0mTrace\u001b[0m\u001b[0;34m(\u001b[0m\u001b[0mreduced_density_matrix\u001b[0m\u001b[0;34m)\u001b[0m\u001b[0;34m)\u001b[0m\u001b[0;34m)\u001b[0m \u001b[0;34m==\u001b[0m \u001b[0;36m1\u001b[0m\u001b[0;34m,\u001b[0m \u001b[0;34m'Reduced density operator is not valid'\u001b[0m\u001b[0;34m\u001b[0m\u001b[0;34m\u001b[0m\u001b[0m\n\u001b[0m\u001b[1;32m     19\u001b[0m     \u001b[0;32mreturn\u001b[0m \u001b[0mreduced_density_matrix\u001b[0m\u001b[0;34m\u001b[0m\u001b[0;34m\u001b[0m\u001b[0m\n",
      "\u001b[0;31mAssertionError\u001b[0m: Reduced density operator is not valid"
     ]
    }
   ],
   "source": [
    "rho_2 = one_qubit_partial_trace_sym(rho, 2)\n",
    "\n",
    "purity2 = simplify(trace_sym(rho_2))\n",
    "\n",
    "purity2"
   ]
  },
  {
   "cell_type": "code",
   "execution_count": 601,
   "id": "d29fc433",
   "metadata": {},
   "outputs": [
    {
     "data": {
      "text/plain": [
       "{epsilon_2, theta_0, theta_1, theta_2}"
      ]
     },
     "execution_count": 601,
     "metadata": {},
     "output_type": "execute_result"
    }
   ],
   "source": [
    "purity2.free_symbols"
   ]
  },
  {
   "cell_type": "markdown",
   "id": "a88339d2",
   "metadata": {},
   "source": [
    "If we look at all the parameters in the expression, we will see that $\\epsilon_1$ is missing. The confirms our observation that $\\epsilon_1$ remains constant from above."
   ]
  },
  {
   "cell_type": "code",
   "execution_count": 537,
   "id": "bd8117e4",
   "metadata": {},
   "outputs": [],
   "source": [
    "# Testing expression\n",
    "\n",
    "for i in range(100):\n",
    "    np.random.seed(i)\n",
    "\n",
    "    theta0, theta1, theta2, epsilon1, epsilon2 = np.random.uniform(0, 2*np.pi, 5)\n",
    "\n",
    "    circ = QuantumCircuit(3)\n",
    "    circ.ry(2*theta0, 0)\n",
    "    circ.cx(0, 1)\n",
    "\n",
    "    circ.rz(2*epsilon1, 1) # Rz1\n",
    "    circ.ry(2*theta1, 1) # Ry1\n",
    "\n",
    "    circ.ry(2*theta2, 2) # Ry2\n",
    "    circ.rz(2*epsilon2, 2) # Rz2\n",
    "\n",
    "    circ.cx(1, 2)\n",
    "\n",
    "    rho = DensityMatrix(circ.reverse_bits()).data\n",
    "    traced_qubit = 2\n",
    "\n",
    "    dm = one_qubit_partial_trace(rho, traced_qubit)\n",
    "\n",
    "    mu_actual = dm.purity()\n",
    "\n",
    "    mu_test = simplify(purity2.subs([(t[0], theta0), \n",
    "              (t[1], theta1), \n",
    "              (t[2], theta2), \n",
    "              (e[1], epsilon1), \n",
    "              (e[2], epsilon2)]))\n",
    "\n",
    "    aae(float(mu_test), mu_actual)"
   ]
  },
  {
   "cell_type": "code",
   "execution_count": 605,
   "id": "ee6a282b",
   "metadata": {},
   "outputs": [
    {
     "data": {
      "text/plain": [
       "(cos(theta_0)**4*cos(theta_1)**4,\n",
       " sin(theta_1)**4*cos(theta_0)**4,\n",
       " sin(theta_0)**4*cos(theta_1)**4,\n",
       " sin(theta_0)**4*sin(theta_1)**4,\n",
       " 4*sin(theta_0)**2*sin(theta_1)**2*cos(theta_0)**2*cos(theta_1)**2,\n",
       " 8*sin(theta_0)**2*sin(theta_2)**2*cos(theta_0)**2*cos(theta_1)**4*cos(theta_2)**2,\n",
       " 8*sin(theta_0)**2*sin(theta_1)**4*sin(theta_2)**2*cos(theta_0)**2*cos(theta_2)**2,\n",
       " 8*sin(theta_1)**2*sin(theta_2)**2*cos(theta_0)**4*cos(theta_1)**2*cos(theta_2)**2,\n",
       " 8*sin(theta_0)**4*sin(theta_1)**2*sin(theta_2)**2*cos(theta_1)**2*cos(theta_2)**2,\n",
       " -32*sin(theta_0)**2*sin(theta_2)**2*cos(epsilon_2)**2*cos(theta_0)**2*cos(theta_1)**4*cos(theta_2)**2,\n",
       " -32*sin(theta_0)**2*sin(theta_1)**4*sin(theta_2)**2*cos(epsilon_2)**2*cos(theta_0)**2*cos(theta_2)**2,\n",
       " -32*sin(theta_1)**2*sin(theta_2)**2*cos(epsilon_2)**2*cos(theta_0)**4*cos(theta_1)**2*cos(theta_2)**2,\n",
       " -32*sin(theta_0)**4*sin(theta_1)**2*sin(theta_2)**2*cos(epsilon_2)**2*cos(theta_1)**2*cos(theta_2)**2,\n",
       " 32*sin(theta_0)**2*sin(theta_2)**2*cos(epsilon_2)**4*cos(theta_0)**2*cos(theta_1)**4*cos(theta_2)**2,\n",
       " 32*sin(theta_0)**2*sin(theta_1)**4*sin(theta_2)**2*cos(epsilon_2)**4*cos(theta_0)**2*cos(theta_2)**2,\n",
       " 32*sin(theta_1)**2*sin(theta_2)**2*cos(epsilon_2)**4*cos(theta_0)**4*cos(theta_1)**2*cos(theta_2)**2,\n",
       " 32*sin(theta_0)**4*sin(theta_1)**2*sin(theta_2)**2*cos(epsilon_2)**4*cos(theta_1)**2*cos(theta_2)**2)"
      ]
     },
     "execution_count": 605,
     "metadata": {},
     "output_type": "execute_result"
    }
   ],
   "source": [
    "terms = expand(expand_trig(purity2)).args\n",
    "\n",
    "terms"
   ]
  },
  {
   "cell_type": "markdown",
   "id": "35873130",
   "metadata": {},
   "source": [
    "Looking at the expression, we see that we have:\n",
    "- 4 terms with coefficient 1, each has 2 terms\n",
    "- 1 terms with coefficient 4, each has 4 terms\n",
    "- 4 terms with coefficient 8, each has 5 terms\n",
    "- 8 terms with coefficient ±32, each has 6 terms"
   ]
  }
 ],
 "metadata": {
  "kernelspec": {
   "display_name": "Python 3",
   "language": "python",
   "name": "python3"
  },
  "language_info": {
   "codemirror_mode": {
    "name": "ipython",
    "version": 3
   },
   "file_extension": ".py",
   "mimetype": "text/x-python",
   "name": "python",
   "nbconvert_exporter": "python",
   "pygments_lexer": "ipython3",
   "version": "3.8.8"
  }
 },
 "nbformat": 4,
 "nbformat_minor": 5
}
